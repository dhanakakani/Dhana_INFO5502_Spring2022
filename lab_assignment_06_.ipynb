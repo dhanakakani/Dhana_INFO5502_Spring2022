{
  "cells": [
    {
      "cell_type": "markdown",
      "metadata": {
        "id": "view-in-github",
        "colab_type": "text"
      },
      "source": [
        "<a href=\"https://colab.research.google.com/github/dhanakakani/Dhana_INFO5502_Spring2022/blob/master/lab_assignment_06_.ipynb\" target=\"_parent\"><img src=\"https://colab.research.google.com/assets/colab-badge.svg\" alt=\"Open In Colab\"/></a>"
      ]
    },
    {
      "cell_type": "markdown",
      "metadata": {
        "id": "1QQPFqDWLOwq"
      },
      "source": [
        "## The sixth Lab-assignment (03/24/2022, 50 points in total)"
      ]
    },
    {
      "cell_type": "markdown",
      "metadata": {
        "id": "rXpmodl3LOwv"
      },
      "source": [
        "The purpose of this exercise is to build a simple predicition model which can helpyou understand the workflow of machine learning. "
      ]
    },
    {
      "cell_type": "markdown",
      "metadata": {
        "id": "aP52LcahLOww"
      },
      "source": [
        "### Task Decription "
      ]
    },
    {
      "cell_type": "markdown",
      "metadata": {
        "id": "-FPFb3W0LOwx"
      },
      "source": [
        "The goal of this assignment is to predict bike share use, given the hour, day, and information about the weather. Companies like Divvy try to predict how much demand there will be for bikes on any given day to allocate resources to redistribute bikes so that, ideally, very few bike stations are ever full (when you can’t park your bike) or empty (when you can’t pick up a bike if you want to).\n",
        "\n",
        "The data (link: https://github.com/unt-iialab/info5502-spring2022/tree/main/datasets/lab_assignment_06) in Github provides detailed information on the data set and necessary downloads."
      ]
    },
    {
      "cell_type": "markdown",
      "metadata": {
        "id": "DLE6Q1MpLOwy"
      },
      "source": [
        "### Data Description"
      ]
    },
    {
      "cell_type": "markdown",
      "metadata": {
        "id": "T259rHiTLOwy"
      },
      "source": [
        "You are provided hourly rental data spanning two years (link: https://github.com/unt-iialab/info5502-spring2022/tree/main/datasets/lab_assignment_06). For this task, the training set is comprised of the first 16 days of each month, while the test set is the 17-19th day of the month. You must predict the total count of bikes rented during each hour covered by the test set, using only information available prior to the rental period. That is, predict \"count\" without using \"count\" or its components \"casual\" and \"registered\".\n",
        "\n",
        "Data Fields\n",
        "\n",
        "datetime - hourly date + timestamp\n",
        "\n",
        "season - 1 = spring, 2 = summer, 3 = fall, 4 = winter\n",
        "\n",
        "holiday - whether the day is considered a holiday\n",
        "\n",
        "workingday - whether the day is neither a weekend nor holiday\n",
        "\n",
        "weather -\n",
        "\n",
        "1 - Clear, Few clouds, Partly cloudy, Partly cloudy\n",
        "\n",
        "2 - Mist + Cloudy, Mist + Broken clouds, Mist + Few clouds, Mist\n",
        "\n",
        "3 - Light Snow, Light Rain + Thunderstorm + Scattered clouds, Light Rain + Scattered clouds\n",
        "\n",
        "4 - Heavy Rain + Ice Pallets + Thunderstorm + Mist, Snow + Fog\n",
        "\n",
        "temp - temperature in Celsius\n",
        "\n",
        "atemp - \"feels like\" temperature in Celsius\n",
        "\n",
        "humidity - relative humidity\n",
        "\n",
        "windspeed - wind speed\n",
        "\n",
        "casual - number of non-registered user rentals initiated\n",
        "\n",
        "registered - number of registered user rentals initiated\n",
        "\n",
        "count - number of total rentals"
      ]
    },
    {
      "cell_type": "markdown",
      "metadata": {
        "id": "iJL4d0_mLOwz"
      },
      "source": [
        "### Output"
      ]
    },
    {
      "cell_type": "markdown",
      "metadata": {
        "id": "gW4WupI-LOw0"
      },
      "source": [
        "Submission Format\n",
        "\n",
        "Your output (a separate file) must have a header line and should be structured in the following format:\n",
        "\n",
        " datetime,count\n",
        " \n",
        " 2011-01-20 00:00:00,0 \n",
        " \n",
        " 2011-01-20 01:00:00,0\n",
        " \n",
        " 2011-01-20 02:00:00,0\n",
        " \n",
        " ...\n",
        " \n",
        "The tutorial code should demonstrate how to generate such a file from a very simple prediction model. Note, these prediction are to be done on the test file under the data tab, where you do not know the actual count, and should match the rows of the test file in count and order.\n",
        "\n",
        "Your predictions should be compared to the ground truth information (sample_prediction.csv). Score are calculated using Root Mean Squared Error (RMSE)."
      ]
    },
    {
      "cell_type": "markdown",
      "metadata": {
        "id": "oINrz-7rLOw2"
      },
      "source": [
        "### Tips"
      ]
    },
    {
      "cell_type": "markdown",
      "metadata": {
        "id": "NR57iFHqLOw3"
      },
      "source": [
        "●\tAdd features: Pick columns/features from the data you already have. Or make a new feature from the ones you have. For example, the tutorial makes ‘hour’ from the datetime stamp, which seemed very useful. How about ‘month’?\n",
        "\n",
        "●\tModel selection: Try different models. Make sure they are regression models rather than classification models. Tip: random forest regression is a good, all around modeling strategy on complicated data sets.\n",
        "\n",
        "●\tModel tuning: Almost all regression models have parameters to tune (“hyperparameters”). E.g. polynomial regression has the degree of the polynomial (n = 1 for a line, n=2 for a quadratic fit, n=3 for a cubic fit…). Generally, one extreme makes the model too simple (e.g. a line for a curved set of points) and the other extreme makes the model overfit/be too complex, and usually the right choice is in between. For some models it is obvious what to tune (e.g. k for k nearest neighbors regression) and some don’t need much tuning with defaults that often work well. e.g. try changing the number of trees used in the random forest model!\n",
        "\n",
        "●\tCross validation: The tutorial has a simple way of separating training and test data, however, there are better ways of splitting training and test data. Look into cross validation techniques, which are more reliable than an arbitrary split of training and test data.\n",
        "\n",
        "●\tSeparate models for ...: Notice that count comes from just adding casual riders and registered riders. However, what if these two types of riders acted very differently? It might make sense to make two separate models and just add the results of both models together. This is also true for any subsets of your data that may behave wildly differently (e.g. create a separate model for each season?)"
      ]
    },
    {
      "cell_type": "markdown",
      "metadata": {
        "id": "M2Lo046mLOw5"
      },
      "source": [
        "### Your code"
      ]
    },
    {
      "cell_type": "code",
      "execution_count": 66,
      "metadata": {
        "colab": {
          "base_uri": "https://localhost:8080/",
          "height": 444
        },
        "id": "NNMlAcwaLOw6",
        "outputId": "2b17cbcc-aacd-4312-fb77-9efed3716625"
      },
      "outputs": [
        {
          "output_type": "execute_result",
          "data": {
            "text/plain": [
              "             datetime  season  holiday  workingday  weather  temp   atemp  \\\n",
              "0 2011-01-01 00:00:00       1        0           0        1  9.84  14.395   \n",
              "1 2011-01-01 01:00:00       1        0           0        1  9.02  13.635   \n",
              "2 2011-01-01 02:00:00       1        0           0        1  9.02  13.635   \n",
              "3 2011-01-01 03:00:00       1        0           0        1  9.84  14.395   \n",
              "4 2011-01-01 04:00:00       1        0           0        1  9.84  14.395   \n",
              "\n",
              "   humidity  windspeed  casual  registered  count  hour  day  month  \n",
              "0        81        0.0       3          13     16     0    1      1  \n",
              "1        80        0.0       8          32     40     1    1      1  \n",
              "2        80        0.0       5          27     32     2    1      1  \n",
              "3        75        0.0       3          10     13     3    1      1  \n",
              "4        75        0.0       0           1      1     4    1      1  "
            ],
            "text/html": [
              "\n",
              "  <div id=\"df-e2198310-a731-4381-b617-9e4caeed7f4d\">\n",
              "    <div class=\"colab-df-container\">\n",
              "      <div>\n",
              "<style scoped>\n",
              "    .dataframe tbody tr th:only-of-type {\n",
              "        vertical-align: middle;\n",
              "    }\n",
              "\n",
              "    .dataframe tbody tr th {\n",
              "        vertical-align: top;\n",
              "    }\n",
              "\n",
              "    .dataframe thead th {\n",
              "        text-align: right;\n",
              "    }\n",
              "</style>\n",
              "<table border=\"1\" class=\"dataframe\">\n",
              "  <thead>\n",
              "    <tr style=\"text-align: right;\">\n",
              "      <th></th>\n",
              "      <th>datetime</th>\n",
              "      <th>season</th>\n",
              "      <th>holiday</th>\n",
              "      <th>workingday</th>\n",
              "      <th>weather</th>\n",
              "      <th>temp</th>\n",
              "      <th>atemp</th>\n",
              "      <th>humidity</th>\n",
              "      <th>windspeed</th>\n",
              "      <th>casual</th>\n",
              "      <th>registered</th>\n",
              "      <th>count</th>\n",
              "      <th>hour</th>\n",
              "      <th>day</th>\n",
              "      <th>month</th>\n",
              "    </tr>\n",
              "  </thead>\n",
              "  <tbody>\n",
              "    <tr>\n",
              "      <th>0</th>\n",
              "      <td>2011-01-01 00:00:00</td>\n",
              "      <td>1</td>\n",
              "      <td>0</td>\n",
              "      <td>0</td>\n",
              "      <td>1</td>\n",
              "      <td>9.84</td>\n",
              "      <td>14.395</td>\n",
              "      <td>81</td>\n",
              "      <td>0.0</td>\n",
              "      <td>3</td>\n",
              "      <td>13</td>\n",
              "      <td>16</td>\n",
              "      <td>0</td>\n",
              "      <td>1</td>\n",
              "      <td>1</td>\n",
              "    </tr>\n",
              "    <tr>\n",
              "      <th>1</th>\n",
              "      <td>2011-01-01 01:00:00</td>\n",
              "      <td>1</td>\n",
              "      <td>0</td>\n",
              "      <td>0</td>\n",
              "      <td>1</td>\n",
              "      <td>9.02</td>\n",
              "      <td>13.635</td>\n",
              "      <td>80</td>\n",
              "      <td>0.0</td>\n",
              "      <td>8</td>\n",
              "      <td>32</td>\n",
              "      <td>40</td>\n",
              "      <td>1</td>\n",
              "      <td>1</td>\n",
              "      <td>1</td>\n",
              "    </tr>\n",
              "    <tr>\n",
              "      <th>2</th>\n",
              "      <td>2011-01-01 02:00:00</td>\n",
              "      <td>1</td>\n",
              "      <td>0</td>\n",
              "      <td>0</td>\n",
              "      <td>1</td>\n",
              "      <td>9.02</td>\n",
              "      <td>13.635</td>\n",
              "      <td>80</td>\n",
              "      <td>0.0</td>\n",
              "      <td>5</td>\n",
              "      <td>27</td>\n",
              "      <td>32</td>\n",
              "      <td>2</td>\n",
              "      <td>1</td>\n",
              "      <td>1</td>\n",
              "    </tr>\n",
              "    <tr>\n",
              "      <th>3</th>\n",
              "      <td>2011-01-01 03:00:00</td>\n",
              "      <td>1</td>\n",
              "      <td>0</td>\n",
              "      <td>0</td>\n",
              "      <td>1</td>\n",
              "      <td>9.84</td>\n",
              "      <td>14.395</td>\n",
              "      <td>75</td>\n",
              "      <td>0.0</td>\n",
              "      <td>3</td>\n",
              "      <td>10</td>\n",
              "      <td>13</td>\n",
              "      <td>3</td>\n",
              "      <td>1</td>\n",
              "      <td>1</td>\n",
              "    </tr>\n",
              "    <tr>\n",
              "      <th>4</th>\n",
              "      <td>2011-01-01 04:00:00</td>\n",
              "      <td>1</td>\n",
              "      <td>0</td>\n",
              "      <td>0</td>\n",
              "      <td>1</td>\n",
              "      <td>9.84</td>\n",
              "      <td>14.395</td>\n",
              "      <td>75</td>\n",
              "      <td>0.0</td>\n",
              "      <td>0</td>\n",
              "      <td>1</td>\n",
              "      <td>1</td>\n",
              "      <td>4</td>\n",
              "      <td>1</td>\n",
              "      <td>1</td>\n",
              "    </tr>\n",
              "  </tbody>\n",
              "</table>\n",
              "</div>\n",
              "      <button class=\"colab-df-convert\" onclick=\"convertToInteractive('df-e2198310-a731-4381-b617-9e4caeed7f4d')\"\n",
              "              title=\"Convert this dataframe to an interactive table.\"\n",
              "              style=\"display:none;\">\n",
              "        \n",
              "  <svg xmlns=\"http://www.w3.org/2000/svg\" height=\"24px\"viewBox=\"0 0 24 24\"\n",
              "       width=\"24px\">\n",
              "    <path d=\"M0 0h24v24H0V0z\" fill=\"none\"/>\n",
              "    <path d=\"M18.56 5.44l.94 2.06.94-2.06 2.06-.94-2.06-.94-.94-2.06-.94 2.06-2.06.94zm-11 1L8.5 8.5l.94-2.06 2.06-.94-2.06-.94L8.5 2.5l-.94 2.06-2.06.94zm10 10l.94 2.06.94-2.06 2.06-.94-2.06-.94-.94-2.06-.94 2.06-2.06.94z\"/><path d=\"M17.41 7.96l-1.37-1.37c-.4-.4-.92-.59-1.43-.59-.52 0-1.04.2-1.43.59L10.3 9.45l-7.72 7.72c-.78.78-.78 2.05 0 2.83L4 21.41c.39.39.9.59 1.41.59.51 0 1.02-.2 1.41-.59l7.78-7.78 2.81-2.81c.8-.78.8-2.07 0-2.86zM5.41 20L4 18.59l7.72-7.72 1.47 1.35L5.41 20z\"/>\n",
              "  </svg>\n",
              "      </button>\n",
              "      \n",
              "  <style>\n",
              "    .colab-df-container {\n",
              "      display:flex;\n",
              "      flex-wrap:wrap;\n",
              "      gap: 12px;\n",
              "    }\n",
              "\n",
              "    .colab-df-convert {\n",
              "      background-color: #E8F0FE;\n",
              "      border: none;\n",
              "      border-radius: 50%;\n",
              "      cursor: pointer;\n",
              "      display: none;\n",
              "      fill: #1967D2;\n",
              "      height: 32px;\n",
              "      padding: 0 0 0 0;\n",
              "      width: 32px;\n",
              "    }\n",
              "\n",
              "    .colab-df-convert:hover {\n",
              "      background-color: #E2EBFA;\n",
              "      box-shadow: 0px 1px 2px rgba(60, 64, 67, 0.3), 0px 1px 3px 1px rgba(60, 64, 67, 0.15);\n",
              "      fill: #174EA6;\n",
              "    }\n",
              "\n",
              "    [theme=dark] .colab-df-convert {\n",
              "      background-color: #3B4455;\n",
              "      fill: #D2E3FC;\n",
              "    }\n",
              "\n",
              "    [theme=dark] .colab-df-convert:hover {\n",
              "      background-color: #434B5C;\n",
              "      box-shadow: 0px 1px 3px 1px rgba(0, 0, 0, 0.15);\n",
              "      filter: drop-shadow(0px 1px 2px rgba(0, 0, 0, 0.3));\n",
              "      fill: #FFFFFF;\n",
              "    }\n",
              "  </style>\n",
              "\n",
              "      <script>\n",
              "        const buttonEl =\n",
              "          document.querySelector('#df-e2198310-a731-4381-b617-9e4caeed7f4d button.colab-df-convert');\n",
              "        buttonEl.style.display =\n",
              "          google.colab.kernel.accessAllowed ? 'block' : 'none';\n",
              "\n",
              "        async function convertToInteractive(key) {\n",
              "          const element = document.querySelector('#df-e2198310-a731-4381-b617-9e4caeed7f4d');\n",
              "          const dataTable =\n",
              "            await google.colab.kernel.invokeFunction('convertToInteractive',\n",
              "                                                     [key], {});\n",
              "          if (!dataTable) return;\n",
              "\n",
              "          const docLinkHtml = 'Like what you see? Visit the ' +\n",
              "            '<a target=\"_blank\" href=https://colab.research.google.com/notebooks/data_table.ipynb>data table notebook</a>'\n",
              "            + ' to learn more about interactive tables.';\n",
              "          element.innerHTML = '';\n",
              "          dataTable['output_type'] = 'display_data';\n",
              "          await google.colab.output.renderOutput(dataTable, element);\n",
              "          const docLink = document.createElement('div');\n",
              "          docLink.innerHTML = docLinkHtml;\n",
              "          element.appendChild(docLink);\n",
              "        }\n",
              "      </script>\n",
              "    </div>\n",
              "  </div>\n",
              "  "
            ]
          },
          "metadata": {},
          "execution_count": 66
        }
      ],
      "source": [
        "### You code here:\n",
        "from datetime import datetime\n",
        "import matplotlib.pyplot as plt\n",
        "%matplotlib inline\n",
        "import pandas as pd\n",
        "import numpy as np\n",
        "\n",
        "data = pd.read_csv(\"https://raw.githubusercontent.com/unt-iialab/info5502-spring2022/main/datasets/lab_assignment_06/train_luc.csv\")\n",
        "\n",
        "#datetime column to datetime datatype\n",
        "data['datetime']=pd.to_datetime(data.datetime)\n",
        "#extracting hour, day, month values from datetime\n",
        "data['hour'] = data['datetime'].dt.hour\n",
        "data['day'] = data['datetime'].dt.day\n",
        "data['month'] = data['datetime'].dt.month\n",
        "data.head()"
      ]
    },
    {
      "cell_type": "code",
      "execution_count": 67,
      "metadata": {
        "colab": {
          "base_uri": "https://localhost:8080/"
        },
        "id": "lcIcHPc9LOw-",
        "outputId": "3ca553dc-f718-4761-aa18-c096fd9ea560"
      },
      "outputs": [
        {
          "output_type": "execute_result",
          "data": {
            "text/plain": [
              "(9174, 15)"
            ]
          },
          "metadata": {},
          "execution_count": 67
        }
      ],
      "source": [
        "data.shape"
      ]
    },
    {
      "cell_type": "code",
      "execution_count": 68,
      "metadata": {
        "colab": {
          "base_uri": "https://localhost:8080/"
        },
        "id": "Nw4xpOdxLOw_",
        "outputId": "00008066-96b6-44ef-ccf0-19eca2cc9abe"
      },
      "outputs": [
        {
          "output_type": "stream",
          "name": "stdout",
          "text": [
            "<class 'pandas.core.frame.DataFrame'>\n",
            "RangeIndex: 9174 entries, 0 to 9173\n",
            "Data columns (total 15 columns):\n",
            " #   Column      Non-Null Count  Dtype         \n",
            "---  ------      --------------  -----         \n",
            " 0   datetime    9174 non-null   datetime64[ns]\n",
            " 1   season      9174 non-null   int64         \n",
            " 2   holiday     9174 non-null   int64         \n",
            " 3   workingday  9174 non-null   int64         \n",
            " 4   weather     9174 non-null   int64         \n",
            " 5   temp        9174 non-null   float64       \n",
            " 6   atemp       9174 non-null   float64       \n",
            " 7   humidity    9174 non-null   int64         \n",
            " 8   windspeed   9174 non-null   float64       \n",
            " 9   casual      9174 non-null   int64         \n",
            " 10  registered  9174 non-null   int64         \n",
            " 11  count       9174 non-null   int64         \n",
            " 12  hour        9174 non-null   int64         \n",
            " 13  day         9174 non-null   int64         \n",
            " 14  month       9174 non-null   int64         \n",
            "dtypes: datetime64[ns](1), float64(3), int64(11)\n",
            "memory usage: 1.1 MB\n"
          ]
        }
      ],
      "source": [
        "data.info()"
      ]
    },
    {
      "cell_type": "code",
      "execution_count": 69,
      "metadata": {
        "colab": {
          "base_uri": "https://localhost:8080/"
        },
        "id": "ZTng8SwgLOxA",
        "outputId": "f9c1b32d-ef47-49d2-e2ab-c4bd981aa67d"
      },
      "outputs": [
        {
          "output_type": "execute_result",
          "data": {
            "text/plain": [
              "datetime      0\n",
              "season        0\n",
              "holiday       0\n",
              "workingday    0\n",
              "weather       0\n",
              "temp          0\n",
              "atemp         0\n",
              "humidity      0\n",
              "windspeed     0\n",
              "casual        0\n",
              "registered    0\n",
              "count         0\n",
              "hour          0\n",
              "day           0\n",
              "month         0\n",
              "dtype: int64"
            ]
          },
          "metadata": {},
          "execution_count": 69
        }
      ],
      "source": [
        "data.isna().sum()"
      ]
    },
    {
      "cell_type": "code",
      "execution_count": 70,
      "metadata": {
        "colab": {
          "base_uri": "https://localhost:8080/",
          "height": 517
        },
        "id": "FGdCock4LOxB",
        "outputId": "99671abc-d900-4eda-a51e-a59a05beadf6"
      },
      "outputs": [
        {
          "output_type": "stream",
          "name": "stderr",
          "text": [
            "/usr/local/lib/python3.7/dist-packages/seaborn/_decorators.py:43: FutureWarning: Pass the following variable as a keyword arg: x. From version 0.12, the only valid positional argument will be `data`, and passing other arguments without an explicit keyword will result in an error or misinterpretation.\n",
            "  FutureWarning\n"
          ]
        },
        {
          "output_type": "display_data",
          "data": {
            "text/plain": [
              "<Figure size 864x504 with 1 Axes>"
            ],
            "image/png": "[encoded data removed]"
          },
          "metadata": {
            "needs_background": "light"
          }
        }
      ],
      "source": [
        "import seaborn as sns\n",
        "plt.rcParams['figure.figsize'] = [12, 7]\n",
        "ax = sns.countplot(data['day'])\n",
        "plt.title(\"Count of bike rentals in each day\")\n",
        "plt.xlabel(\"Day\")\n",
        "plt.ylabel(\"Count of rentals\")\n",
        "plt.xticks(rotation=90)\n",
        "plt.show()"
      ]
    },
    {
      "cell_type": "markdown",
      "metadata": {
        "id": "bsqqYbk0LOxC"
      },
      "source": [
        ". We see that the number of rentals is nearly constant on all days."
      ]
    },
    {
      "cell_type": "code",
      "execution_count": 71,
      "metadata": {
        "colab": {
          "base_uri": "https://localhost:8080/",
          "height": 461
        },
        "id": "QbfrfRacLOxD",
        "outputId": "c12a6ee6-6fd9-4ee9-ea10-1da568598070"
      },
      "outputs": [
        {
          "output_type": "display_data",
          "data": {
            "text/plain": [
              "<Figure size 864x504 with 1 Axes>"
            ],
            "image/png": "[encoded data removed]"
          },
          "metadata": {
            "needs_background": "light"
          }
        }
      ],
      "source": [
        "import seaborn as sns\n",
        "plt.rcParams['figure.figsize'] = [12, 7]\n",
        "data[['casual', 'registered']][:50].plot(kind='bar', stacked=True)\n",
        "plt.title(\"Stacked Barchart showing contribution of casual and registered bike rentals\")\n",
        "plt.xlabel(\"Day\")\n",
        "plt.ylabel(\"Total count of casual and registered\")\n",
        "plt.xticks(rotation=90)\n",
        "plt.show()"
      ]
    },
    {
      "cell_type": "markdown",
      "metadata": {
        "id": "Z3KjooTlLOxG"
      },
      "source": [
        ". We see that the majority of the rentals come from registered customers rather than casual customers in the first 50 records.\n"
      ]
    },
    {
      "cell_type": "code",
      "execution_count": 72,
      "metadata": {
        "colab": {
          "base_uri": "https://localhost:8080/",
          "height": 403
        },
        "id": "GGSnu_VPLOxH",
        "outputId": "19196653-370f-4b55-9bd9-bf0584be565e"
      },
      "outputs": [
        {
          "output_type": "stream",
          "name": "stderr",
          "text": [
            "/usr/local/lib/python3.7/dist-packages/seaborn/_decorators.py:43: FutureWarning: Pass the following variables as keyword args: x, y. From version 0.12, the only valid positional argument will be `data`, and passing other arguments without an explicit keyword will result in an error or misinterpretation.\n",
            "  FutureWarning\n"
          ]
        },
        {
          "output_type": "display_data",
          "data": {
            "text/plain": [
              "<Figure size 504x360 with 1 Axes>"
            ],
            "image/png": "[encoded data removed]"
          },
          "metadata": {
            "needs_background": "light"
          }
        }
      ],
      "source": [
        "import seaborn as sns\n",
        "# data['season'] = data['season'].astype('str')\n",
        "plt.rcParams['figure.figsize'] = [7, 5]\n",
        "# sns.barplot(data['season'])\n",
        "ax = sns.barplot('season', 'casual', data = data)\n",
        "plt.title(\"Count of casual customers in different seasons\")\n",
        "plt.xlabel(\"Season\")\n",
        "plt.ylabel(\"Total count of casual customers\")\n",
        "plt.xticks(rotation=90)\n",
        "plt.show()"
      ]
    },
    {
      "cell_type": "code",
      "execution_count": 73,
      "metadata": {
        "colab": {
          "base_uri": "https://localhost:8080/",
          "height": 391
        },
        "id": "MPZuBYSBLOxI",
        "outputId": "a0eb9b18-6a2f-4ad6-8af8-7cb645f992c0"
      },
      "outputs": [
        {
          "output_type": "stream",
          "name": "stderr",
          "text": [
            "/usr/local/lib/python3.7/dist-packages/seaborn/_decorators.py:43: FutureWarning: Pass the following variable as a keyword arg: x. From version 0.12, the only valid positional argument will be `data`, and passing other arguments without an explicit keyword will result in an error or misinterpretation.\n",
            "  FutureWarning\n"
          ]
        },
        {
          "output_type": "display_data",
          "data": {
            "text/plain": [
              "<Figure size 504x360 with 1 Axes>"
            ],
            "image/png": "[encoded data removed]"
          },
          "metadata": {
            "needs_background": "light"
          }
        }
      ],
      "source": [
        "ax = sns.countplot(data['workingday'])\n",
        "\n",
        "plt.xlabel('weekday')\n",
        "plt.ylabel('casual')\n",
        "plt.show()"
      ]
    },
    {
      "cell_type": "markdown",
      "metadata": {
        "id": "NMnvmbi9LOxJ"
      },
      "source": [
        ". We can observe that the majority of the rentals are from the weekdays."
      ]
    },
    {
      "cell_type": "code",
      "execution_count": 74,
      "metadata": {
        "id": "WgVt5aU9LOxK"
      },
      "outputs": [],
      "source": [
        "# we convert the below columns into categorical\n",
        "for i in ['season', 'weather', 'holiday', 'workingday']:\n",
        "    data[i] = data[i].astype('object')\n",
        "\n",
        "# Dummification of the below columns in the dataset\n",
        "one_hot_df = pd.get_dummies(data[['season', 'holiday', 'workingday', 'weather']])\n",
        "# we drop unnecessary columns\n",
        "X = data.drop(['datetime','casual','registered', 'season', 'holiday', 'workingday', 'weather', 'day', 'count'], axis=1)\n",
        "# we append the dummies data to the original data\n",
        "X = X.join(one_hot_df)\n",
        "# target column\n",
        "y = data['count']"
      ]
    },
    {
      "cell_type": "markdown",
      "metadata": {
        "id": "1wGG1Xg9LOxL"
      },
      "source": [
        "# Cross Validation"
      ]
    },
    {
      "cell_type": "code",
      "execution_count": 75,
      "metadata": {
        "colab": {
          "base_uri": "https://localhost:8080/"
        },
        "id": "9iZrnOQ9LOxM",
        "outputId": "1be40758-fe46-448c-9a7c-e60e78cd91f5"
      },
      "outputs": [
        {
          "output_type": "stream",
          "name": "stdout",
          "text": [
            "train: [   0    1    2 ... 9171 9172 9173], test: [   3    6   13 ... 9159 9160 9161]\n",
            "train: [   0    1    3 ... 9170 9171 9172], test: [   2    4    7 ... 9167 9169 9173]\n",
            "train: [   0    2    3 ... 9171 9172 9173], test: [   1   10   14 ... 9152 9154 9162]\n",
            "train: [   0    1    2 ... 9171 9172 9173], test: [  11   17   26 ... 9153 9168 9170]\n",
            "train: [   1    2    3 ... 9169 9170 9173], test: [   0    5    9 ... 9166 9171 9172]\n"
          ]
        }
      ],
      "source": [
        "from sklearn.model_selection import KFold\n",
        "from sklearn.linear_model import LinearRegression\n",
        "from sklearn.metrics import mean_squared_error, r2_score\n",
        "# We split the dataset using Kfold cross validation\n",
        "kfold = KFold(n_splits=5, shuffle=True, random_state=None)\n",
        "for train, test in kfold.split(data):\n",
        "    print('train: %s, test: %s' % (train, test))"
      ]
    },
    {
      "cell_type": "markdown",
      "metadata": {
        "id": "3djJyZPRLOxN"
      },
      "source": [
        "# Prediction of test dataset"
      ]
    },
    {
      "cell_type": "code",
      "execution_count": 76,
      "metadata": {
        "id": "8UmUaOyqLOxO"
      },
      "outputs": [],
      "source": [
        "# load the test dataset\n",
        "test_data = pd.read_csv(\"https://raw.githubusercontent.com/unt-iialab/info5502-spring2022/main/datasets/lab_assignment_06/test_luc.csv\")\n",
        "# change the dataset type to datatime\n",
        "test_data['datetime'] = pd.to_datetime(test_data.datetime)\n",
        "# we extract the hour and month\n",
        "test_data['hour'] = test_data['datetime'].dt.hour\n",
        "test_data['month'] = test_data['datetime'].dt.month\n",
        "# convert the following columns datatype to categorical\n",
        "for i in ['season', 'weather', 'holiday', 'workingday']:\n",
        "    test_data[i] = test_data[i].astype('object')\n",
        "\n",
        "one_hot_test_data = pd.get_dummies(test_data[['season', 'holiday', 'workingday', 'weather']])\n",
        "test_data = test_data.drop(['datetime', 'season', 'holiday', 'workingday', 'weather'], axis=1)\n",
        "test_data = test_data.join(one_hot_test_data)"
      ]
    },
    {
      "cell_type": "code",
      "execution_count": 77,
      "metadata": {
        "id": "ch1MX2zxLOxQ"
      },
      "outputs": [],
      "source": [
        "# test data doesn't have weather category 4\n",
        "# we append that column\n",
        "test_data['weather_4'] = 0"
      ]
    },
    {
      "cell_type": "code",
      "execution_count": 78,
      "metadata": {
        "colab": {
          "base_uri": "https://localhost:8080/"
        },
        "id": "B6l8l88DLOxQ",
        "outputId": "07c1837e-3a12-4e97-bed7-11679d285f95"
      },
      "outputs": [
        {
          "output_type": "stream",
          "name": "stdout",
          "text": [
            "Index(['temp', 'atemp', 'humidity', 'windspeed', 'hour', 'month', 'season_1',\n",
            "       'season_2', 'season_3', 'season_4', 'holiday_0', 'holiday_1',\n",
            "       'workingday_0', 'workingday_1', 'weather_1', 'weather_2', 'weather_3',\n",
            "       'weather_4'],\n",
            "      dtype='object')\n",
            "Index(['temp', 'atemp', 'humidity', 'windspeed', 'hour', 'month', 'season_1',\n",
            "       'season_2', 'season_3', 'season_4', 'holiday_0', 'holiday_1',\n",
            "       'workingday_0', 'workingday_1', 'weather_1', 'weather_2', 'weather_3',\n",
            "       'weather_4'],\n",
            "      dtype='object')\n"
          ]
        }
      ],
      "source": [
        "print(test_data.columns)\n",
        "print(X.columns)"
      ]
    },
    {
      "cell_type": "markdown",
      "metadata": {
        "id": "v4gTFBDgLOxR"
      },
      "source": [
        "# Linear Regression"
      ]
    },
    {
      "cell_type": "code",
      "execution_count": 79,
      "metadata": {
        "colab": {
          "base_uri": "https://localhost:8080/"
        },
        "id": "gw13qlw1LOxR",
        "outputId": "d1bea0f0-2f77-4ecc-cfd0-b0898e958f52"
      },
      "outputs": [
        {
          "output_type": "stream",
          "name": "stdout",
          "text": [
            "RMSE: 141.9101537713137\n",
            "R2 Score: 0.36891748329270846\n"
          ]
        },
        {
          "output_type": "execute_result",
          "data": {
            "text/plain": [
              "array([ 11.1845604 ,  23.71896411,  24.37137344, ..., 259.94362969,\n",
              "       272.05116635, 264.32332895])"
            ]
          },
          "metadata": {},
          "execution_count": 79
        }
      ],
      "source": [
        "# Applying Linear Regression to find the customers count of Rentals\n",
        "lr = LinearRegression()\n",
        "lr.fit(X.iloc[train], y.iloc[train])\n",
        "lr_ypred = lr.predict(X.iloc[test])\n",
        "# finding mean square error\n",
        "mse = mean_squared_error(y.iloc[test], lr_ypred)\n",
        "print(\"RMSE:\", np.sqrt(mse))\n",
        "# finding R2 Score\n",
        "r_squared = r2_score(y.iloc[test], lr_ypred)\n",
        "print(\"R2 Score:\", r_squared)\n",
        "lr_test_pred=lr.predict(test_data)\n",
        "lr_test_pred\n"
      ]
    },
    {
      "cell_type": "markdown",
      "metadata": {
        "id": "IlLgjs56LOxT"
      },
      "source": [
        "# DecisionTreeRegressor"
      ]
    },
    {
      "cell_type": "code",
      "execution_count": 80,
      "metadata": {
        "colab": {
          "base_uri": "https://localhost:8080/"
        },
        "id": "t1uR9HxVLOxT",
        "outputId": "22f89f06-fc75-4eea-9df9-0a6f68572588"
      },
      "outputs": [
        {
          "output_type": "stream",
          "name": "stdout",
          "text": [
            "RMSE: 87.31288296167759\n",
            "R2 Score: 0.7611001571123873\n"
          ]
        },
        {
          "output_type": "execute_result",
          "data": {
            "text/plain": [
              "array([ 59.,  42.,  42., ..., 207., 163.,  62.])"
            ]
          },
          "metadata": {},
          "execution_count": 80
        }
      ],
      "source": [
        "from sklearn.tree import DecisionTreeRegressor\n",
        "# Using Decision Tree Regressor model to find the count values\n",
        "dtreg = DecisionTreeRegressor(random_state=211)\n",
        "dtreg.fit(X.iloc[train], y.iloc[train])\n",
        "dtreg_ypred = dtreg.predict(X.iloc[test])\n",
        "mse = mean_squared_error(y.iloc[test], dtreg_ypred)\n",
        "print(\"RMSE:\", np.sqrt(mse))\n",
        "r_squared = r2_score(y.iloc[test], dtreg_ypred)\n",
        "print(\"R2 Score:\", r_squared)\n",
        "dtreg_test_pred=dtreg.predict(test_data)\n",
        "dtreg_test_pred\n"
      ]
    },
    {
      "cell_type": "markdown",
      "metadata": {
        "id": "fde2DkqnLOxX"
      },
      "source": [
        "# RandomForestRegressor"
      ]
    },
    {
      "cell_type": "code",
      "execution_count": 81,
      "metadata": {
        "colab": {
          "base_uri": "https://localhost:8080/"
        },
        "id": "dJJUZ1UILOxY",
        "outputId": "bfcf265f-8a6c-43ce-ba71-8a45d31885a4"
      },
      "outputs": [
        {
          "output_type": "stream",
          "name": "stdout",
          "text": [
            "RMSE: 63.139730312267574\n",
            "R2 Score:  0.8750706004464066\n"
          ]
        },
        {
          "output_type": "execute_result",
          "data": {
            "text/plain": [
              "array([ 36.78,  30.77,  24.5 , ..., 162.43, 148.25,  97.09])"
            ]
          },
          "metadata": {},
          "execution_count": 81
        }
      ],
      "source": [
        "from sklearn.ensemble import RandomForestRegressor\n",
        "# using Random Forest Regressor to find the count values\n",
        "rfreg = RandomForestRegressor(random_state = 211)\n",
        "rfreg.fit(X.iloc[train], y.iloc[train])\n",
        "rfreg_ypred = rfreg.predict(X.iloc[test])\n",
        "mse = mean_squared_error(y.iloc[test], rfreg_ypred)\n",
        "print(\"RMSE:\", np.sqrt(mse))\n",
        "r_squared = r2_score(y.iloc[test], rfreg_ypred)\n",
        "print(\"R2 Score: \", r_squared)\n",
        "rfreg_test_pred = rfreg.predict(test_data)\n",
        "rfreg_test_pred"
      ]
    },
    {
      "cell_type": "code",
      "execution_count": 82,
      "metadata": {
        "id": "_t1WFvc8LOxZ"
      },
      "outputs": [],
      "source": [
        "test_data = pd.read_csv(\"https://raw.githubusercontent.com/unt-iialab/info5502-spring2022/main/datasets/lab_assignment_06/test_luc.csv\")\n",
        "test_data['count'] = rfreg_test_pred"
      ]
    },
    {
      "cell_type": "code",
      "execution_count": 83,
      "metadata": {
        "colab": {
          "base_uri": "https://localhost:8080/",
          "height": 424
        },
        "id": "ce9po-DrLOxa",
        "outputId": "c5faf5d6-cdd2-45c3-8a90-b1408c9e9fc1"
      },
      "outputs": [
        {
          "output_type": "execute_result",
          "data": {
            "text/plain": [
              "                 datetime   count\n",
              "0     2011-01-17 00:00:00   36.78\n",
              "1     2011-01-17 01:00:00   30.77\n",
              "2     2011-01-17 02:00:00   24.50\n",
              "3     2011-01-17 03:00:00   15.71\n",
              "4     2011-01-17 04:00:00    8.73\n",
              "...                   ...     ...\n",
              "1707  2012-12-19 19:00:00  352.49\n",
              "1708  2012-12-19 20:00:00  220.29\n",
              "1709  2012-12-19 21:00:00  162.43\n",
              "1710  2012-12-19 22:00:00  148.25\n",
              "1711  2012-12-19 23:00:00   97.09\n",
              "\n",
              "[1712 rows x 2 columns]"
            ],
            "text/html": [
              "\n",
              "  <div id=\"df-4f14c412-369a-4f05-94e2-e8bd712b9c09\">\n",
              "    <div class=\"colab-df-container\">\n",
              "      <div>\n",
              "<style scoped>\n",
              "    .dataframe tbody tr th:only-of-type {\n",
              "        vertical-align: middle;\n",
              "    }\n",
              "\n",
              "    .dataframe tbody tr th {\n",
              "        vertical-align: top;\n",
              "    }\n",
              "\n",
              "    .dataframe thead th {\n",
              "        text-align: right;\n",
              "    }\n",
              "</style>\n",
              "<table border=\"1\" class=\"dataframe\">\n",
              "  <thead>\n",
              "    <tr style=\"text-align: right;\">\n",
              "      <th></th>\n",
              "      <th>datetime</th>\n",
              "      <th>count</th>\n",
              "    </tr>\n",
              "  </thead>\n",
              "  <tbody>\n",
              "    <tr>\n",
              "      <th>0</th>\n",
              "      <td>2011-01-17 00:00:00</td>\n",
              "      <td>36.78</td>\n",
              "    </tr>\n",
              "    <tr>\n",
              "      <th>1</th>\n",
              "      <td>2011-01-17 01:00:00</td>\n",
              "      <td>30.77</td>\n",
              "    </tr>\n",
              "    <tr>\n",
              "      <th>2</th>\n",
              "      <td>2011-01-17 02:00:00</td>\n",
              "      <td>24.50</td>\n",
              "    </tr>\n",
              "    <tr>\n",
              "      <th>3</th>\n",
              "      <td>2011-01-17 03:00:00</td>\n",
              "      <td>15.71</td>\n",
              "    </tr>\n",
              "    <tr>\n",
              "      <th>4</th>\n",
              "      <td>2011-01-17 04:00:00</td>\n",
              "      <td>8.73</td>\n",
              "    </tr>\n",
              "    <tr>\n",
              "      <th>...</th>\n",
              "      <td>...</td>\n",
              "      <td>...</td>\n",
              "    </tr>\n",
              "    <tr>\n",
              "      <th>1707</th>\n",
              "      <td>2012-12-19 19:00:00</td>\n",
              "      <td>352.49</td>\n",
              "    </tr>\n",
              "    <tr>\n",
              "      <th>1708</th>\n",
              "      <td>2012-12-19 20:00:00</td>\n",
              "      <td>220.29</td>\n",
              "    </tr>\n",
              "    <tr>\n",
              "      <th>1709</th>\n",
              "      <td>2012-12-19 21:00:00</td>\n",
              "      <td>162.43</td>\n",
              "    </tr>\n",
              "    <tr>\n",
              "      <th>1710</th>\n",
              "      <td>2012-12-19 22:00:00</td>\n",
              "      <td>148.25</td>\n",
              "    </tr>\n",
              "    <tr>\n",
              "      <th>1711</th>\n",
              "      <td>2012-12-19 23:00:00</td>\n",
              "      <td>97.09</td>\n",
              "    </tr>\n",
              "  </tbody>\n",
              "</table>\n",
              "<p>1712 rows × 2 columns</p>\n",
              "</div>\n",
              "      <button class=\"colab-df-convert\" onclick=\"convertToInteractive('df-4f14c412-369a-4f05-94e2-e8bd712b9c09')\"\n",
              "              title=\"Convert this dataframe to an interactive table.\"\n",
              "              style=\"display:none;\">\n",
              "        \n",
              "  <svg xmlns=\"http://www.w3.org/2000/svg\" height=\"24px\"viewBox=\"0 0 24 24\"\n",
              "       width=\"24px\">\n",
              "    <path d=\"M0 0h24v24H0V0z\" fill=\"none\"/>\n",
              "    <path d=\"M18.56 5.44l.94 2.06.94-2.06 2.06-.94-2.06-.94-.94-2.06-.94 2.06-2.06.94zm-11 1L8.5 8.5l.94-2.06 2.06-.94-2.06-.94L8.5 2.5l-.94 2.06-2.06.94zm10 10l.94 2.06.94-2.06 2.06-.94-2.06-.94-.94-2.06-.94 2.06-2.06.94z\"/><path d=\"M17.41 7.96l-1.37-1.37c-.4-.4-.92-.59-1.43-.59-.52 0-1.04.2-1.43.59L10.3 9.45l-7.72 7.72c-.78.78-.78 2.05 0 2.83L4 21.41c.39.39.9.59 1.41.59.51 0 1.02-.2 1.41-.59l7.78-7.78 2.81-2.81c.8-.78.8-2.07 0-2.86zM5.41 20L4 18.59l7.72-7.72 1.47 1.35L5.41 20z\"/>\n",
              "  </svg>\n",
              "      </button>\n",
              "      \n",
              "  <style>\n",
              "    .colab-df-container {\n",
              "      display:flex;\n",
              "      flex-wrap:wrap;\n",
              "      gap: 12px;\n",
              "    }\n",
              "\n",
              "    .colab-df-convert {\n",
              "      background-color: #E8F0FE;\n",
              "      border: none;\n",
              "      border-radius: 50%;\n",
              "      cursor: pointer;\n",
              "      display: none;\n",
              "      fill: #1967D2;\n",
              "      height: 32px;\n",
              "      padding: 0 0 0 0;\n",
              "      width: 32px;\n",
              "    }\n",
              "\n",
              "    .colab-df-convert:hover {\n",
              "      background-color: #E2EBFA;\n",
              "      box-shadow: 0px 1px 2px rgba(60, 64, 67, 0.3), 0px 1px 3px 1px rgba(60, 64, 67, 0.15);\n",
              "      fill: #174EA6;\n",
              "    }\n",
              "\n",
              "    [theme=dark] .colab-df-convert {\n",
              "      background-color: #3B4455;\n",
              "      fill: #D2E3FC;\n",
              "    }\n",
              "\n",
              "    [theme=dark] .colab-df-convert:hover {\n",
              "      background-color: #434B5C;\n",
              "      box-shadow: 0px 1px 3px 1px rgba(0, 0, 0, 0.15);\n",
              "      filter: drop-shadow(0px 1px 2px rgba(0, 0, 0, 0.3));\n",
              "      fill: #FFFFFF;\n",
              "    }\n",
              "  </style>\n",
              "\n",
              "      <script>\n",
              "        const buttonEl =\n",
              "          document.querySelector('#df-4f14c412-369a-4f05-94e2-e8bd712b9c09 button.colab-df-convert');\n",
              "        buttonEl.style.display =\n",
              "          google.colab.kernel.accessAllowed ? 'block' : 'none';\n",
              "\n",
              "        async function convertToInteractive(key) {\n",
              "          const element = document.querySelector('#df-4f14c412-369a-4f05-94e2-e8bd712b9c09');\n",
              "          const dataTable =\n",
              "            await google.colab.kernel.invokeFunction('convertToInteractive',\n",
              "                                                     [key], {});\n",
              "          if (!dataTable) return;\n",
              "\n",
              "          const docLinkHtml = 'Like what you see? Visit the ' +\n",
              "            '<a target=\"_blank\" href=https://colab.research.google.com/notebooks/data_table.ipynb>data table notebook</a>'\n",
              "            + ' to learn more about interactive tables.';\n",
              "          element.innerHTML = '';\n",
              "          dataTable['output_type'] = 'display_data';\n",
              "          await google.colab.output.renderOutput(dataTable, element);\n",
              "          const docLink = document.createElement('div');\n",
              "          docLink.innerHTML = docLinkHtml;\n",
              "          element.appendChild(docLink);\n",
              "        }\n",
              "      </script>\n",
              "    </div>\n",
              "  </div>\n",
              "  "
            ]
          },
          "metadata": {},
          "execution_count": 83
        }
      ],
      "source": [
        "test_data[['datetime', 'count']]"
      ]
    },
    {
      "cell_type": "code",
      "execution_count": 84,
      "metadata": {
        "id": "1rrD-OfyLOxb"
      },
      "outputs": [],
      "source": [
        "# since the RMSE is low for RF Regressor and R2 Score is less for RF Regressor\n",
        "# we save the predicted values from RF Regressor model\n",
        "test_df = test_data[['datetime','count']].to_csv('Dhana_prediction.csv', index=False, header=True)"
      ]
    },
    {
      "cell_type": "markdown",
      "metadata": {
        "id": "GFGQENSaLOxb"
      },
      "source": [
        "# Building Seperate models for Casual and Registered customers"
      ]
    },
    {
      "cell_type": "markdown",
      "metadata": {
        "id": "uwMkN5DbLOxc"
      },
      "source": [
        "# Prediction of Casual Customers"
      ]
    },
    {
      "cell_type": "code",
      "execution_count": 85,
      "metadata": {
        "id": "q8fyYTSwLOxd"
      },
      "outputs": [],
      "source": [
        "X = data.drop(['datetime','casual','registered', 'season', 'holiday', 'workingday', 'weather', 'day', 'count'], axis=1)\n",
        "X = X.join(one_hot_df)\n",
        "y = data['casual']"
      ]
    },
    {
      "cell_type": "code",
      "execution_count": 86,
      "metadata": {
        "id": "IAj_uhjDLOxe"
      },
      "outputs": [],
      "source": [
        "test_data = pd.read_csv(\"https://raw.githubusercontent.com/unt-iialab/info5502-spring2022/main/datasets/lab_assignment_06/test_luc.csv\")\n",
        "\n",
        "test_data['datetime'] = pd.to_datetime(test_data.datetime)\n",
        "\n",
        "test_data['hour'] = test_data['datetime'].dt.hour\n",
        "#test_data['day'] = test_data['datetime'].dt.day\n",
        "test_data['month'] = test_data['datetime'].dt.month\n",
        "\n",
        "for i in ['season', 'weather', 'holiday', 'workingday']:\n",
        "    test_data[i] = test_data[i].astype('object')\n",
        "\n",
        "one_hot_test_data = pd.get_dummies(test_data[['season', 'holiday', 'workingday', 'weather']])\n",
        "test_data = test_data.drop(['datetime', 'season', 'holiday', 'workingday', 'weather'], axis=1)\n",
        "test_data = test_data.join(one_hot_test_data)"
      ]
    },
    {
      "cell_type": "code",
      "execution_count": 87,
      "metadata": {
        "id": "h-7S8qNQLOxe"
      },
      "outputs": [],
      "source": [
        "test_data['weather_4'] = 0"
      ]
    },
    {
      "cell_type": "markdown",
      "metadata": {
        "id": "M-swTIy0LOxg"
      },
      "source": [
        "# Casual Customers count prediction using Linear Regression"
      ]
    },
    {
      "cell_type": "code",
      "execution_count": 88,
      "metadata": {
        "colab": {
          "base_uri": "https://localhost:8080/"
        },
        "id": "6FOBZLcELOxg",
        "outputId": "2ec5ac18-17d1-4b5d-eff4-0859abc2aec9"
      },
      "outputs": [
        {
          "output_type": "stream",
          "name": "stdout",
          "text": [
            "RMSE: 37.72740012179619\n",
            "R2 Score: 0.4879806425587493\n"
          ]
        },
        {
          "output_type": "execute_result",
          "data": {
            "text/plain": [
              "array([12.82908522, 16.04510914, 14.57107665, ..., 20.44743437,\n",
              "       23.85701996, 19.22250332])"
            ]
          },
          "metadata": {},
          "execution_count": 88
        }
      ],
      "source": [
        "# Using Lin Regression for predicting Casual customers\n",
        "lr = LinearRegression()\n",
        "lr.fit(X.iloc[train], y.iloc[train])\n",
        "lr_ypred = lr.predict(X.iloc[test])\n",
        "mse = mean_squared_error(y.iloc[test], lr_ypred)\n",
        "print(\"RMSE:\", np.sqrt(mse))\n",
        "r_squared = r2_score(y.iloc[test], lr_ypred)\n",
        "print(\"R2 Score:\", r_squared)\n",
        "lr_test_pred = lr.predict(test_data)\n",
        "lr_test_pred"
      ]
    },
    {
      "cell_type": "markdown",
      "metadata": {
        "id": "CagqD0vWLOxh"
      },
      "source": [
        "# Casual Customers count prediction using DecisionTreeRegressor"
      ]
    },
    {
      "cell_type": "code",
      "execution_count": 89,
      "metadata": {
        "colab": {
          "base_uri": "https://localhost:8080/"
        },
        "id": "Lyv948N8LOxi",
        "outputId": "8b161bc5-749d-45bf-e136-4935b10fc837"
      },
      "outputs": [
        {
          "output_type": "stream",
          "name": "stdout",
          "text": [
            "RMSE: 25.197591561528967\n",
            "R2 Score: 0.7716028459063107\n"
          ]
        },
        {
          "output_type": "execute_result",
          "data": {
            "text/plain": [
              "array([ 1.,  1.,  6., ...,  5., 17.,  8.])"
            ]
          },
          "metadata": {},
          "execution_count": 89
        }
      ],
      "source": [
        "from sklearn.tree import DecisionTreeRegressor\n",
        "# Using DecisionTree Regressor for predicting Casual customers\n",
        "dtreg = DecisionTreeRegressor(random_state=211)\n",
        "dtreg.fit(X.iloc[train], y.iloc[train])\n",
        "dtreg_ypred = dtreg.predict(X.iloc[test])\n",
        "mse = mean_squared_error(y.iloc[test], dtreg_ypred)\n",
        "print(\"RMSE:\", np.sqrt(mse))\n",
        "r_squared = r2_score(y.iloc[test], dtreg_ypred)\n",
        "print(\"R2 Score:\", r_squared)\n",
        "dtreg_test_pred = dtreg.predict(test_data)\n",
        "dtreg_test_pred"
      ]
    },
    {
      "cell_type": "markdown",
      "metadata": {
        "id": "pom6S8emLOxk"
      },
      "source": [
        "# Casual Customers count prediction using RandomForestRegressor"
      ]
    },
    {
      "cell_type": "code",
      "execution_count": 90,
      "metadata": {
        "colab": {
          "base_uri": "https://localhost:8080/"
        },
        "id": "a4k5NJdZLOxk",
        "outputId": "27f24e1a-5343-4eab-ea75-7c5b307c2d45"
      },
      "outputs": [
        {
          "output_type": "stream",
          "name": "stdout",
          "text": [
            "RMSE: 17.81813164282579\n",
            "R2 Score: 0.8857918884015651\n"
          ]
        },
        {
          "output_type": "execute_result",
          "data": {
            "text/plain": [
              "array([ 3.25,  2.79,  2.68, ..., 10.19, 12.51,  8.28])"
            ]
          },
          "metadata": {},
          "execution_count": 90
        }
      ],
      "source": [
        "from sklearn.ensemble import RandomForestRegressor\n",
        "# Using RandomForest Regressor for predicting Casual customers\n",
        "rfreg = RandomForestRegressor(random_state = 211)\n",
        "rfreg.fit(X.iloc[train], y.iloc[train])\n",
        "rfreg_ypred = rfreg.predict(X.iloc[test])\n",
        "mse = mean_squared_error(y.iloc[test], rfreg_ypred)\n",
        "print(\"RMSE:\", np.sqrt(mse))\n",
        "r_squared = r2_score(y.iloc[test], rfreg_ypred)\n",
        "print(\"R2 Score:\", r_squared)\n",
        "rfreg_test_pred = rfreg.predict(test_data)\n",
        "rfreg_test_pred"
      ]
    },
    {
      "cell_type": "code",
      "execution_count": 91,
      "metadata": {
        "id": "mCDg_t3ALOxv"
      },
      "outputs": [],
      "source": [
        "# since the RMSE is low for RF Regressor and R2 Score is less for RF Regressor\n",
        "# we save the predicted values from RF Regressor model\n",
        "test_data = pd.read_csv(\"https://raw.githubusercontent.com/unt-iialab/info5502-spring2022/main/datasets/lab_assignment_06/test_luc.csv\")\n",
        "test_data['count'] = rfreg_test_pred\n",
        "test_df = test_data[['datetime','count']].to_csv('Dhana_casual_customers_prediction.csv', index=False, header=True)"
      ]
    },
    {
      "cell_type": "markdown",
      "metadata": {
        "id": "fCkELYwCLOxw"
      },
      "source": [
        "# Prediction of Registered Customers"
      ]
    },
    {
      "cell_type": "code",
      "execution_count": 92,
      "metadata": {
        "id": "-5m_bVnELOxx"
      },
      "outputs": [],
      "source": [
        "X = data.drop(['datetime','casual','registered', 'season', 'holiday', 'workingday', 'weather', 'day', 'count'], axis=1)\n",
        "X = X.join(one_hot_df)\n",
        "y = data['registered']"
      ]
    },
    {
      "cell_type": "code",
      "execution_count": 93,
      "metadata": {
        "id": "mHTsORimLOxx"
      },
      "outputs": [],
      "source": [
        "test_data = pd.read_csv(\"https://raw.githubusercontent.com/unt-iialab/info5502-spring2022/main/datasets/lab_assignment_06/test_luc.csv\")\n",
        "\n",
        "test_data['datetime'] = pd.to_datetime(test_data.datetime)\n",
        "\n",
        "test_data['hour'] = test_data['datetime'].dt.hour\n",
        "#test_data['day'] = test_data['datetime'].dt.day\n",
        "test_data['month'] = test_data['datetime'].dt.month\n",
        "\n",
        "for i in ['season', 'weather', 'holiday', 'workingday']:\n",
        "    test_data[i] = test_data[i].astype('object')\n",
        "\n",
        "one_hot_test_data = pd.get_dummies(test_data[['season', 'holiday', 'workingday', 'weather']])\n",
        "test_data = test_data.drop(['datetime', 'season', 'holiday', 'workingday', 'weather'], axis=1)\n",
        "test_data = test_data.join(one_hot_test_data)\n",
        "test_data['weather_4'] = 0"
      ]
    },
    {
      "cell_type": "markdown",
      "metadata": {
        "id": "PEE7LD-ULOxy"
      },
      "source": [
        "# Registered Customers count prediction using Linear Regression"
      ]
    },
    {
      "cell_type": "code",
      "execution_count": 94,
      "metadata": {
        "colab": {
          "base_uri": "https://localhost:8080/"
        },
        "id": "Fu2mzEh_LOxz",
        "outputId": "65bcf15f-e205-45b6-a125-60ad9c3f397e"
      },
      "outputs": [
        {
          "output_type": "stream",
          "name": "stdout",
          "text": [
            "RMSE: 122.31340250041833\n",
            "R2 Score: 0.29655175806236855\n"
          ]
        },
        {
          "output_type": "execute_result",
          "data": {
            "text/plain": [
              "array([ -1.64452481,   7.67385497,   9.80029679, ..., 239.49619532,\n",
              "       248.1941464 , 245.10082563])"
            ]
          },
          "metadata": {},
          "execution_count": 94
        }
      ],
      "source": [
        "# using Linear Regression to find the registered customers count\n",
        "lr = LinearRegression()\n",
        "lr.fit(X.iloc[train], y.iloc[train])\n",
        "lr_ypred = lr.predict(X.iloc[test])\n",
        "mse = mean_squared_error(y.iloc[test], lr_ypred)\n",
        "print(\"RMSE:\", np.sqrt(mse))\n",
        "r_squared = r2_score(y.iloc[test], lr_ypred)\n",
        "print(\"R2 Score:\", r_squared)\n",
        "lr_test_pred = lr.predict(test_data)\n",
        "lr_test_pred"
      ]
    },
    {
      "cell_type": "markdown",
      "metadata": {
        "id": "xU90zBk4LOxz"
      },
      "source": [
        "# Registered Customers count prediction using DecisionTreeRegressor"
      ]
    },
    {
      "cell_type": "code",
      "execution_count": 95,
      "metadata": {
        "colab": {
          "base_uri": "https://localhost:8080/"
        },
        "id": "tpyQq-YyLOx0",
        "outputId": "eede74c9-78ae-4968-98d3-f357123a8a6f"
      },
      "outputs": [
        {
          "output_type": "stream",
          "name": "stdout",
          "text": [
            "RMSE: 76.69284092024989\n",
            "R2 Score: 0.7234372374129587\n"
          ]
        },
        {
          "output_type": "execute_result",
          "data": {
            "text/plain": [
              "array([ 50.,  40.,   6., ..., 193., 175.,  68.])"
            ]
          },
          "metadata": {},
          "execution_count": 95
        }
      ],
      "source": [
        "from sklearn.tree import DecisionTreeRegressor\n",
        "# using Decision Tree Regressor to find the registered customers count\n",
        "dtreg = DecisionTreeRegressor(random_state=211)\n",
        "dtreg.fit(X.iloc[train], y.iloc[train])\n",
        "dtreg_ypred = dtreg.predict(X.iloc[test])\n",
        "mse = mean_squared_error(y.iloc[test], dtreg_ypred)\n",
        "print(\"RMSE:\", np.sqrt(mse))\n",
        "r_squared = r2_score(y.iloc[test], dtreg_ypred)\n",
        "print(\"R2 Score:\", r_squared)\n",
        "dtreg_test_pred = dtreg.predict(test_data)\n",
        "dtreg_test_pred"
      ]
    },
    {
      "cell_type": "markdown",
      "metadata": {
        "id": "mQTyUZi9LOx1"
      },
      "source": [
        "# Registered Customers count prediction using RandomForestRegressor"
      ]
    },
    {
      "cell_type": "code",
      "execution_count": 96,
      "metadata": {
        "colab": {
          "base_uri": "https://localhost:8080/"
        },
        "id": "pP6VRM8ULOx1",
        "outputId": "8f820c93-db38-4ee3-e41d-d8b2b45fdaf5"
      },
      "outputs": [
        {
          "output_type": "stream",
          "name": "stdout",
          "text": [
            "RMSE: 55.13052040103972\n",
            "R2 Score: 0.8570881511978542\n"
          ]
        },
        {
          "output_type": "execute_result",
          "data": {
            "text/plain": [
              "array([ 33.56,  29.86,  19.11, ..., 160.7 , 128.54,  80.04])"
            ]
          },
          "metadata": {},
          "execution_count": 96
        }
      ],
      "source": [
        "from sklearn.ensemble import RandomForestRegressor\n",
        "# using Random Forest Regressor to find the registered customers count\n",
        "rfreg = RandomForestRegressor(random_state = 211)\n",
        "rfreg.fit(X.iloc[train], y.iloc[train])\n",
        "rfreg_ypred = rfreg.predict(X.iloc[test])\n",
        "mse = mean_squared_error(y.iloc[test], rfreg_ypred)\n",
        "print(\"RMSE:\", np.sqrt(mse))\n",
        "r_squared = r2_score(y.iloc[test], rfreg_ypred)\n",
        "print(\"R2 Score:\",r_squared)\n",
        "rfreg_test_pred = rfreg.predict(test_data)\n",
        "rfreg_test_pred"
      ]
    },
    {
      "cell_type": "code",
      "source": [
        "# since the RMSE is low for RF Regressor and R2 Score is less for RF Regressor\n",
        "# we save the predicted values from RF Regressor model\n",
        "test_data = pd.read_csv(\"https://raw.githubusercontent.com/unt-iialab/info5502-spring2022/main/datasets/lab_assignment_06/test_luc.csv\")\n",
        "test_data['count'] = rfreg_test_pred\n",
        "test_df = test_data[['datetime','count']].to_csv('Dhana_registered_customers_prediction.csv', index=False, header=True)"
      ],
      "metadata": {
        "id": "PcRb3vyvvxw1"
      },
      "execution_count": 97,
      "outputs": []
    }
  ],
  "metadata": {
    "kernelspec": {
      "display_name": "Python 3 (ipykernel)",
      "language": "python",
      "name": "python3"
    },
    "language_info": {
      "codemirror_mode": {
        "name": "ipython",
        "version": 3
      },
      "file_extension": ".py",
      "mimetype": "text/x-python",
      "name": "python",
      "nbconvert_exporter": "python",
      "pygments_lexer": "ipython3",
      "version": "3.9.7"
    },
    "colab": {
      "name": "lab_assignment_06-Rough3.ipynb",
      "provenance": [],
      "collapsed_sections": [],
      "include_colab_link": true
    }
  },
  "nbformat": 4,
  "nbformat_minor": 0
}