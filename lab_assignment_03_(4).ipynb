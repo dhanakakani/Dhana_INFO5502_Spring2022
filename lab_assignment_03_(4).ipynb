{
  "cells": [
    {
      "cell_type": "markdown",
      "metadata": {
        "id": "view-in-github",
        "colab_type": "text"
      },
      "source": [
        "<a href=\"https://colab.research.google.com/github/dhanakakani/Dhana_INFO5502_Spring2022/blob/master/lab_assignment_03_(4).ipynb\" target=\"_parent\"><img src=\"https://colab.research.google.com/assets/colab-badge.svg\" alt=\"Open In Colab\"/></a>"
      ]
    },
    {
      "cell_type": "markdown",
      "metadata": {
        "id": "KMgj3Z4bKAwY"
      },
      "source": [
        "## The third Lab-assignment (02/10/2022, 50 points in total)"
      ]
    },
    {
      "cell_type": "markdown",
      "metadata": {
        "id": "051NKWu6KAwg"
      },
      "source": [
        "The purpose of this exercise is to understand users' information needs, then collect data from different sources for analysis."
      ]
    },
    {
      "cell_type": "markdown",
      "metadata": {
        "id": "A-H7eb1AKAwh"
      },
      "source": [
        "Question 1 (10 points). Fomulate your domain problem: Describe an interesting research question (or practical question) you have in mind, what kind of data should be collected to answer the question(s)? How many data needed for the analysis? The detail steps for collecting and save the data. "
      ]
    },
    {
      "cell_type": "code",
      "execution_count": 1,
      "metadata": {
        "id": "QU4MREHRKAwi",
        "outputId": "60b42cb1-17ba-4614-db69-21bde8756f1e",
        "colab": {
          "base_uri": "https://localhost:8080/",
          "height": 145
        }
      },
      "outputs": [
        {
          "output_type": "execute_result",
          "data": {
            "text/plain": [
              "'\\nPlease write you answer here:\\n\\nDomain problem: \\n. My domain problem is to analyze no.of ratings , for example-if 20 people gives the rating as 4 then the output should be 4(20)\\n\\nResearch question:\\n. Do EDA on the number of ratings for remote control toys in flipkart.\\n\\nData Required to answer the questions:\\nThe following are the attributes of the required data to answer the research question\\n. We need the ratings class\\n\\nWe can gather 1000 mobiles from the following link: https://www.flipkart.com/toys/remote-control-toys/pr?sid=mgl,56m&otracker=nmenu_sub_Baby%20%26%20Kids_0_Remote%20Control%20Toys\\n\\n\\nSteps for collecting and saving the data:\\n. We use web scraping technique to scrape the data.\\n. By using BeautifulSoup library we can import data.\\n. There are 27 pages of remote control toys in which it contains over 20000 products and from which we will be taking 1000 samples.\\n. We parse through each page and print the no. of ratings \\n\\n'"
            ],
            "application/vnd.google.colaboratory.intrinsic+json": {
              "type": "string"
            }
          },
          "metadata": {},
          "execution_count": 1
        }
      ],
      "source": [
        "# Your answer here (no code for this question, write down your answer as detail as possible for the above questions):\n",
        "\n",
        "\"\"\"\n",
        "Please write you answer here:\n",
        "\n",
        "Domain problem: \n",
        ". My domain problem is to analyze no.of ratings , for example-if 20 people gives the rating as 4 then the output should be 4(20)\n",
        "\n",
        "Research question:\n",
        ". Do EDA on the number of ratings for remote control toys in flipkart.\n",
        "\n",
        "Data Required to answer the questions:\n",
        "The following are the attributes of the required data to answer the research question\n",
        ". We need the ratings class\n",
        "\n",
        "We can gather 1000 mobiles from the following link: https://www.flipkart.com/toys/remote-control-toys/pr?sid=mgl,56m&otracker=nmenu_sub_Baby%20%26%20Kids_0_Remote%20Control%20Toys\n",
        "\n",
        "\n",
        "Steps for collecting and saving the data:\n",
        ". We use web scraping technique to scrape the data.\n",
        ". By using BeautifulSoup library we can import data.\n",
        ". There are 27 pages of remote control toys in which it contains over 20000 products and from which we will be taking 1000 samples.\n",
        ". We parse through each page and print the no. of ratings \n",
        "\n",
        "\"\"\""
      ]
    },
    {
      "cell_type": "markdown",
      "metadata": {
        "id": "XZn_m4K2KAwk"
      },
      "source": [
        "Question 2 (10 points). Collect your data to answer the research problem: Write python code to collect 1000 data samples you discussed above."
      ]
    },
    {
      "cell_type": "code",
      "execution_count": 2,
      "metadata": {
        "colab": {
          "base_uri": "https://localhost:8080/"
        },
        "id": "aI-_J5n7KAwk",
        "outputId": "7dea2cde-5613-481d-a915-771838e76727"
      },
      "outputs": [
        {
          "output_type": "stream",
          "name": "stdout",
          "text": [
            "* Page 1 *\n",
            "37\n",
            "* Page 2 *\n",
            "74\n",
            "* Page 3 *\n",
            "111\n",
            "* Page 4 *\n",
            "148\n",
            "* Page 5 *\n",
            "185\n",
            "* Page 6 *\n",
            "222\n",
            "* Page 7 *\n",
            "259\n",
            "* Page 8 *\n",
            "296\n",
            "* Page 9 *\n",
            "333\n",
            "* Page 10 *\n",
            "370\n",
            "* Page 11 *\n",
            "407\n",
            "* Page 12 *\n",
            "444\n",
            "* Page 13 *\n",
            "481\n",
            "* Page 14 *\n",
            "518\n",
            "* Page 15 *\n",
            "555\n",
            "* Page 16 *\n",
            "592\n",
            "* Page 17 *\n",
            "629\n",
            "* Page 18 *\n",
            "666\n",
            "* Page 19 *\n",
            "703\n",
            "* Page 20 *\n",
            "740\n",
            "* Page 21 *\n",
            "777\n",
            "* Page 22 *\n",
            "814\n",
            "* Page 23 *\n",
            "851\n",
            "* Page 24 *\n",
            "888\n",
            "* Page 25 *\n",
            "925\n",
            "* Page 26 *\n",
            "962\n",
            "* Page 27 *\n",
            "999\n",
            "* Page 28 *\n",
            "1000\n",
            "['4.1(11)', '3.4(197)', '3.3(41)', '4(3,775)', '3.3(22,672)', '3.9(22,829)', '3.5(13,253)', '3.9(45,167)', '2.9(8)', '2.3(3)', '4(3,830)', '3.5(168)', '3.5(2,585)', '3.8(5)', '3.2(5,285)', '3.6(3,662)', '3.7(252)', '3.4(32)', '3.8(931)', '3.9(3,024)', '3.5(3,320)', '3.5(99)', '4(1,764)', '4.3(782)', '3.9(45,167)', '4(10)', '4(11,887)', '3.7(256)', '3.7(4,896)', '4(5)', '3.3(15,892)', '3.8(20)', '2.9(21)', '4.2(480)', '3.7(371)', '3.3(66)', '2(5)', '4.1(11)', '3.4(197)', '3.3(41)', '4(3,775)', '3.3(22,672)', '3.9(22,829)', '3.5(13,253)', '3.9(45,167)', '4(3,830)', '2.3(3)', '3.5(168)', '2.9(8)', '3.8(931)', '3.8(5)', '3.5(2,585)', '3.2(5,285)', '3.6(3,662)', '3.4(32)', '3.7(252)', '3.9(3,024)', '3.5(3,320)', '3.5(99)', '4(1,764)', '4(5)', '4.3(782)', '4(10)', '3.9(45,167)', '4(11,887)', '3.7(256)', '3.3(15,892)', '3.8(20)', '3.5(296)', '2.9(21)', '3.7(4,896)', '3.2(149)', '3.7(371)', '2(5)', '4.1(11)', '3.4(197)', '3.3(41)', '4(3,775)', '3.3(22,672)', '3.9(22,829)', '3.5(661)', '3.5(13,253)', '3.9(45,167)', '2.9(8)', '4(3,830)', '3.5(168)', '3.8(931)', '2.3(3)', '3.5(2,585)', '3.2(5,285)', '3.7(252)', '3.8(5)', '3.6(3,662)', '3.9(3,024)', '4(1,764)', '3.4(32)', '3.5(3,320)', '4(5)', '4.3(782)', '3.5(99)', '3.9(45,167)', '4(11,887)', '3.7(256)', '4(10)', '3.3(15,892)', '3.8(20)', '3.5(296)', '3.7(4,896)', '3.2(149)', '3.7(371)', '2.9(21)', '4.1(11)', '3.4(197)', '3.3(41)', '4(3,775)', '3.3(22,672)', '3.9(22,829)', '3.5(13,253)', '3.9(45,167)', '2.9(8)', '2.3(3)', '4(3,830)', '3.5(168)', '3.5(2,585)', '3.8(5)', '3.2(5,285)', '3.6(3,662)', '3.7(252)', '3.4(32)', '3.8(931)', '3.9(3,024)', '3.5(3,320)', '3.5(99)', '4(1,764)', '4.3(782)', '3.9(45,167)', '4(10)', '4(11,887)', '3.7(256)', '3.7(4,896)', '4(5)', '3.3(15,892)', '3.8(20)', '2.9(21)', '4.2(480)', '3.7(371)', '3.3(66)', '2(5)', '4.1(11)', '3.4(197)', '3.3(41)', '4(3,775)', '3.3(22,672)', '3.9(22,829)', '3.5(13,253)', '3.9(45,167)', '2.9(8)', '2.3(3)', '4(3,830)', '3.5(168)', '3.8(931)', '3.8(5)', '3.5(2,585)', '3.2(5,285)', '3.7(252)', '3.4(32)', '3.6(3,662)', '3.9(3,024)', '4(1,764)', '3.5(99)', '3.5(3,320)', '4(5)', '4.3(782)', '4(10)', '3.9(45,167)', '4(11,887)', '3.7(256)', '3.3(15,892)', '3.8(20)', '3.5(296)', '2.9(21)', '3.7(4,896)', '3.2(149)', '3.7(371)', '2(5)', '4.1(11)', '3.4(197)', '3.3(41)', '4(3,775)', '3.3(22,672)', '3.9(22,829)', '3.5(13,253)', '3.9(45,167)', '2.9(8)', '2.3(3)', '4(3,830)', '3.5(168)', '3.5(2,585)', '3.8(5)', '3.2(5,285)', '3.6(3,662)', '3.7(252)', '3.4(32)', '3.8(931)', '3.9(3,024)', '3.5(3,320)', '3.5(99)', '4(1,764)', '4.3(782)', '3.9(45,167)', '4(10)', '4(11,887)', '3.7(256)', '3.7(4,896)', '4(5)', '3.3(15,892)', '3.8(20)', '2.9(21)', '4.2(480)', '3.7(371)', '3.3(66)', '2(5)', '3.4(197)', '4.1(11)', '3.3(41)', '4(3,775)', '3.3(22,672)', '3.9(22,829)', '3.5(13,253)', '3.9(45,167)', '2.9(8)', '3.8(5)', '4(3,830)', '3.5(168)', '3.8(931)', '4(10)', '3.5(2,585)', '3.2(5,285)', '3.7(252)', '2.3(3)', '3.6(3,662)', '3.9(3,024)', '4(1,764)', '2(5)', '3.5(3,320)', '4(5)', '4.3(782)', '3.4(32)', '3.9(45,167)', '4(11,887)', '3.7(256)', '3.5(99)', '3.3(15,892)', '3.8(20)', '3.5(296)', '2.9(21)', '3.7(4,896)', '3.2(149)', '3.7(371)', '4.1(11)', '3.4(197)', '3.3(41)', '4(3,775)', '3.3(22,672)', '3.9(22,829)', '3.5(13,253)', '3.9(45,167)', '2.9(8)', '2.3(3)', '4(3,830)', '3.5(168)', '3.5(2,585)', '3.8(5)', '3.2(5,285)', '3.6(3,662)', '3.7(252)', '3.4(32)', '3.8(931)', '3.9(3,024)', '3.5(3,320)', '3.5(99)', '4(1,764)', '4.3(782)', '3.9(45,167)', '4(10)', '4(11,887)', '3.7(256)', '3.7(4,896)', '4(5)', '3.3(15,892)', '3.8(20)', '2.9(21)', '4.2(480)', '3.7(371)', '3.3(66)', '2(5)', '4.1(11)', '3.4(197)', '3.3(41)', '4(3,775)', '3.3(22,672)', '3.9(22,829)', '3.5(13,253)', '3.9(45,167)', '2.9(8)', '2.3(3)', '4(3,830)', '3.5(168)', '3.8(931)', '3.8(5)', '3.5(2,585)', '3.2(5,285)', '3.7(252)', '3.4(32)', '3.6(3,662)', '3.9(3,024)', '4(1,764)', '3.5(99)', '3.5(3,320)', '4(5)', '4.3(782)', '4(10)', '3.9(45,167)', '4(11,887)', '3.7(256)', '3.3(15,892)', '3.8(20)', '3.5(296)', '2.9(21)', '3.7(4,896)', '3.2(149)', '3.7(371)', '2(5)', '4.1(11)', '3.4(197)', '3.3(41)', '4(3,775)', '3.3(22,672)', '3.9(22,829)', '3.5(13,253)', '3.9(45,167)', '2.9(8)', '2.3(3)', '4(3,830)', '3.5(168)', '3.8(931)', '3.8(5)', '3.5(2,585)', '3.2(5,285)', '3.7(252)', '3.4(32)', '3.6(3,662)', '3.9(3,024)', '4(1,764)', '3.5(99)', '3.5(3,320)', '4(5)', '4.3(782)', '4(10)', '3.9(45,167)', '4(11,887)', '3.7(256)', '3.3(15,892)', '3.8(20)', '3.5(296)', '2.9(21)', '3.7(4,896)', '3.2(149)', '3.7(371)', '2(5)', '4.1(11)', '3.4(197)', '3.3(41)', '4(3,775)', '3.3(22,672)', '3.9(22,829)', '3.5(13,253)', '3.9(45,167)', '2.9(8)', '2.3(3)', '4(3,830)', '3.5(168)', '3.5(2,585)', '3.8(5)', '3.2(5,285)', '3.6(3,662)', '3.7(252)', '3.4(32)', '3.8(931)', '3.9(3,024)', '3.5(3,320)', '3.5(99)', '4(1,764)', '4.3(782)', '3.9(45,167)', '4(10)', '4(11,887)', '3.7(256)', '3.7(4,896)', '4(5)', '3.3(15,892)', '3.8(20)', '2.9(21)', '4.2(480)', '3.7(371)', '3.3(66)', '2(5)', '4.1(11)', '3.4(197)', '3.3(41)', '4(3,775)', '3.3(22,672)', '3.9(22,829)', '3.5(13,253)', '3.9(45,167)', '2.9(8)', '2.3(3)', '4(3,830)', '3.5(168)', '3.8(931)', '3.8(5)', '3.5(2,585)', '3.2(5,285)', '3.7(252)', '3.4(32)', '3.6(3,662)', '3.9(3,024)', '4(1,764)', '3.5(99)', '3.5(3,320)', '4(5)', '4.3(782)', '4(10)', '3.9(45,167)', '4(11,887)', '3.7(256)', '3.3(15,892)', '3.8(20)', '3.5(296)', '2.9(21)', '3.7(4,896)', '3.2(149)', '3.7(371)', '2(5)', '4.1(11)', '3.4(197)', '3.3(41)', '4(3,775)', '3.3(22,672)', '3.9(22,829)', '3.5(13,253)', '3.9(45,167)', '2.9(8)', '2.3(3)', '4(3,830)', '3.5(168)', '3.8(931)', '3.8(5)', '3.5(2,585)', '3.2(5,285)', '3.7(252)', '3.4(32)', '3.6(3,662)', '3.9(3,024)', '4(1,764)', '3.5(99)', '3.5(3,320)', '4(5)', '4.3(782)', '4(10)', '3.9(45,167)', '4(11,887)', '3.7(256)', '3.3(15,892)', '3.8(20)', '3.5(296)', '2.9(21)', '3.7(4,896)', '3.2(149)', '3.7(371)', '2(5)', '4.1(11)', '3.4(197)', '3.3(41)', '4(3,775)', '3.3(22,672)', '3.9(22,829)', '3.5(13,253)', '3.9(45,167)', '2.9(8)', '2.3(3)', '4(3,830)', '3.5(168)', '3.8(931)', '3.8(5)', '3.5(2,585)', '3.2(5,285)', '3.7(252)', '3.4(32)', '3.6(3,662)', '3.9(3,024)', '4(1,764)', '3.5(99)', '3.5(3,320)', '4(5)', '4.3(782)', '4(10)', '3.9(45,167)', '4(11,887)', '3.7(256)', '3.3(15,892)', '3.8(20)', '3.5(296)', '2.9(21)', '3.7(4,896)', '3.2(149)', '3.7(371)', '2(5)', '4.1(11)', '3.4(197)', '3.3(41)', '4(3,775)', '3.3(22,672)', '3.9(22,829)', '3.5(13,253)', '3.9(45,167)', '2.9(8)', '2.3(3)', '4(3,830)', '3.5(168)', '3.5(2,585)', '3.8(5)', '3.2(5,285)', '3.6(3,662)', '3.7(252)', '3.4(32)', '3.8(931)', '3.9(3,024)', '3.5(3,320)', '3.5(99)', '4(1,764)', '4.3(782)', '3.9(45,167)', '4(10)', '4(11,887)', '3.7(256)', '3.7(4,896)', '4(5)', '3.3(15,892)', '3.8(20)', '2.9(21)', '4.2(480)', '3.7(371)', '3.3(66)', '2(5)', '4.1(11)', '3.4(197)', '3.3(41)', '4(3,775)', '3.3(22,672)', '3.9(22,829)', '3.5(13,253)', '3.9(45,167)', '2.9(8)', '2.3(3)', '4(3,830)', '3.5(168)', '3.5(2,585)', '3.8(5)', '3.2(5,285)', '3.6(3,662)', '3.7(252)', '3.4(32)', '3.8(931)', '3.9(3,024)', '3.5(3,320)', '3.5(99)', '4(1,764)', '4.3(782)', '3.9(45,167)', '4(10)', '4(11,887)', '3.7(256)', '3.7(4,896)', '4(5)', '3.3(15,892)', '3.8(20)', '2.9(21)', '4.2(480)', '3.7(371)', '3.3(66)', '2(5)', '4.1(11)', '3.4(196)', '3.3(41)', '4(3,765)', '3.3(22,672)', '3.9(22,829)', '3.5(13,253)', '3.9(45,167)', '3.6(5)', '2.3(3)', '4(3,830)', '3.5(164)', '3.8(931)', '3.5(4)', '3.5(2,585)', '3.2(5,281)', '3.7(247)', '3.4(32)', '3.6(3,662)', '3.9(3,024)', '4(1,764)', '3.5(99)', '3.5(3,320)', '4(5)', '4.3(782)', '4(10)', '3.9(45,135)', '4(11,887)', '3.7(256)', '3.3(15,872)', '3.8(20)', '3.5(292)', '2.9(21)', '3.7(4,896)', '3.2(149)', '3.7(371)', '2(5)', '4.1(11)', '3.4(197)', '3.3(41)', '4(3,775)', '3.3(22,672)', '3.9(22,829)', '3.5(13,253)', '3.9(45,167)', '2.9(8)', '2.3(3)', '4(3,830)', '3.5(168)', '3.8(931)', '3.8(5)', '3.5(2,585)', '3.2(5,285)', '3.7(252)', '3.4(32)', '3.6(3,662)', '3.9(3,024)', '4(1,764)', '3.5(99)', '3.5(3,320)', '4(5)', '4.3(782)', '4(10)', '3.9(45,167)', '4(11,887)', '3.7(256)', '3.3(15,892)', '3.8(20)', '3.5(296)', '2.9(21)', '3.7(4,896)', '3.2(149)', '3.7(371)', '2(5)', '4.1(11)', '3.4(197)', '3.3(41)', '4(3,775)', '3.3(22,672)', '3.9(22,829)', '3.5(13,253)', '3.9(45,167)', '2.9(8)', '2.3(3)', '4(3,830)', '3.5(168)', '3.5(2,585)', '3.8(5)', '3.2(5,285)', '3.6(3,662)', '3.7(252)', '3.4(32)', '3.8(931)', '3.9(3,024)', '3.5(3,320)', '3.5(99)', '4(1,764)', '4.3(782)', '3.9(45,167)', '4(10)', '4(11,887)', '3.7(256)', '3.7(4,896)', '4(5)', '3.3(15,892)', '3.8(20)', '2.9(21)', '4.2(480)', '3.7(371)', '3.3(66)', '2(5)', '4.1(11)', '3.4(197)', '3.3(41)', '4(3,775)', '3.3(22,672)', '3.9(22,829)', '3.5(13,253)', '3.9(45,167)', '2.9(8)', '2.3(3)', '4(3,830)', '3.5(168)', '3.5(2,585)', '3.8(5)', '3.2(5,285)', '3.6(3,662)', '3.7(252)', '3.4(32)', '3.8(931)', '3.9(3,024)', '3.5(3,320)', '3.5(99)', '4(1,764)', '4.3(782)', '3.9(45,167)', '4(10)', '4(11,887)', '3.7(256)', '3.7(4,896)', '4(5)', '3.3(15,892)', '3.8(20)', '2.9(21)', '4.2(480)', '3.7(371)', '3.3(66)', '2(5)', '4.1(11)', '3.4(196)', '3.3(41)', '4(3,775)', '3.3(22,672)', '3.9(22,829)', '3.5(13,253)', '3.9(45,167)', '3.6(5)', '2.3(3)', '4(3,830)', '3.5(168)', '3.8(931)', '3.8(5)', '3.5(2,585)', '3.2(5,285)', '3.7(252)', '3.4(32)', '3.6(3,662)', '3.9(3,021)', '4(1,764)', '3.5(99)', '3.5(3,320)', '4(5)', '4.3(782)', '4(10)', '3.9(45,167)', '4(11,887)', '3.7(256)', '3.3(15,892)', '3.8(20)', '3.5(296)', '2.9(21)', '3.7(4,896)', '3.2(149)', '3.7(371)', '2(5)', '4.1(11)', '3.4(197)', '3.3(41)', '4(3,775)', '3.3(22,672)', '3.9(22,829)', '3.5(13,253)', '3.9(45,167)', '2.9(8)', '2.3(3)', '4(3,830)', '3.5(168)', '3.8(931)', '3.8(5)', '3.5(2,585)', '3.2(5,285)', '3.7(252)', '3.4(32)', '3.6(3,662)', '3.9(3,024)', '4(1,764)', '3.5(99)', '3.5(3,320)', '4(5)', '4.3(782)', '4(10)', '3.9(45,167)', '4(11,887)', '3.7(256)', '3.3(15,892)', '3.8(20)', '3.5(296)', '2.9(21)', '3.7(4,896)', '3.2(149)', '3.7(371)', '2(5)', '4.1(11)', '3.4(197)', '3.3(41)', '4(3,775)', '3.3(22,672)', '3.9(22,829)', '3.5(13,253)', '3.9(45,167)', '2.9(8)', '2.3(3)', '4(3,830)', '3.5(168)', '3.5(2,585)', '3.8(5)', '3.2(5,285)', '3.6(3,662)', '3.7(252)', '3.4(32)', '3.8(931)', '3.9(3,024)', '3.5(3,320)', '3.5(99)', '4(1,764)', '4.3(782)', '3.9(45,167)', '4(10)', '4(11,887)', '3.7(256)', '3.7(4,896)', '4(5)', '3.3(15,892)', '3.8(20)', '2.9(21)', '4.2(480)', '3.7(371)', '3.3(66)', '2(5)', '4.1(11)', '3.4(197)', '3.3(41)', '4(3,775)', '3.3(22,672)', '3.9(22,829)', '3.5(13,253)', '3.9(45,167)', '2.9(8)', '2.3(3)', '4(3,830)', '3.5(168)', '3.8(931)', '3.8(5)', '3.5(2,585)', '3.2(5,285)', '3.7(252)', '3.4(32)', '3.6(3,662)', '3.9(3,024)', '4(1,764)', '3.5(99)', '3.5(3,320)', '4(5)', '4.3(782)', '4(10)', '3.9(45,167)', '4(11,887)', '3.7(256)', '3.3(15,892)', '3.8(20)', '3.5(296)', '2.9(21)', '3.7(4,896)', '3.2(149)', '3.7(371)', '2(5)', '4.1(11)', '3.4(197)', '3.3(41)', '4(3,775)', '3.3(22,672)', '3.9(22,829)', '3.5(13,253)', '3.9(45,167)', '2.9(8)', '2.3(3)', '4(3,830)', '3.5(168)', '3.8(931)', '3.8(5)', '3.5(2,585)', '3.2(5,285)', '3.7(252)', '3.4(32)', '3.6(3,662)', '3.9(3,024)', '4(1,764)', '3.5(99)', '3.5(3,320)', '4(5)', '4.3(782)', '4(10)', '3.9(45,167)', '4(11,887)', '3.7(256)', '3.3(15,892)', '3.8(20)', '3.5(296)', '2.9(21)', '3.7(4,896)', '3.2(149)', '3.7(371)', '2(5)', '4.1(11)', '3.4(197)', '3.3(41)', '4(3,775)', '3.3(22,672)', '3.9(22,829)', '3.5(13,253)', '3.9(45,167)', '2.9(8)', '2.3(3)', '4(3,830)', '3.5(168)', '3.5(2,585)', '3.8(5)', '3.2(5,285)', '3.7(252)', '3.6(3,662)', '3.4(32)', '3.8(931)', '3.9(3,024)', '4(1,764)', '3.5(99)', '3.5(3,320)', '4.3(782)', '3.9(45,167)', '4(10)', '4(11,887)', '3.7(256)', '3.7(4,896)', '4(5)', '3.3(15,892)', '3.8(20)', '2.9(21)', '4.2(480)', '3.7(371)', '3.3(66)', '2(5)', '4.1(11)', '3.4(197)', '3.3(41)', '4(3,775)', '3.3(22,672)', '3.9(22,829)', '3.5(13,253)', '3.9(45,167)', '2.9(8)', '2.3(3)', '4(3,830)', '3.5(168)', '3.5(2,585)', '3.8(5)', '3.2(5,285)', '3.6(3,662)', '3.7(252)', '3.4(32)', '3.8(931)', '3.9(3,024)', '3.5(3,320)', '3.5(99)', '4(1,764)', '4.3(782)', '3.9(45,167)', '4(10)', '4(11,887)', '3.7(256)', '3.7(4,896)', '4(5)', '3.3(15,892)', '3.8(20)', '2.9(21)', '4.2(480)', '3.7(371)', '3.3(66)', '2(5)', '4.1(11)']\n"
          ]
        }
      ],
      "source": [
        "from bs4 import BeautifulSoup\n",
        "import urllib\n",
        "from urllib.request import Request, urlopen\n",
        "from urllib.error import HTTPError\n",
        "import json\n",
        "import re\n",
        "\n",
        "c = 0\n",
        "\n",
        "Reviews_toy = []\n",
        "#taking the main URL\n",
        "url = \"https://www.flipkart.com/toys/remote-control-toys/pr?sid=mgl,56m&otracker=nmenu_sub_Baby%20%26%20Kids_0_Remote%20Control%20Toys={}\"\n",
        "#initializing for loop \n",
        "for page_num in range(1, 100):\n",
        "    #data soup of the main url page html elements.\n",
        "    link = Request(url.format(page_num), headers={'User-Agent': 'Mozilla/5.0'})\n",
        "    url1 = urllib.request.urlopen(link)\n",
        "    data1 = url1.read()\n",
        "    data2 = BeautifulSoup(data1)\n",
        "    print(\"* Page {} *\".format(page_num))\n",
        "    for class_link in data2.find_all('div', attrs = {'class': \"gUuXy- _2D5lwg\"}):\n",
        "        Reviews_toy.append(class_link.text)\n",
        "        c = c + 1\n",
        "        if c == 1000:\n",
        "            break\n",
        "            \n",
        "    print(c)\n",
        "    if c == 1000:\n",
        "        break\n",
        "    \n",
        "print(Reviews_toy)"
      ]
    },
    {
      "cell_type": "markdown",
      "metadata": {
        "id": "o2IqFSfBKAws"
      },
      "source": [
        "Question 3 (10 points). Understand the data quality: Search a second hand dataset (any dataset) from kaggle or other websites. Describe the data quality problem of the dataset and explain your strtegy to clean the data."
      ]
    },
    {
      "cell_type": "code",
      "execution_count": 3,
      "metadata": {
        "id": "-khA8224KAwu",
        "outputId": "7604210d-2095-4cde-c923-edd60ded831d",
        "colab": {
          "base_uri": "https://localhost:8080/",
          "height": 109
        }
      },
      "outputs": [
        {
          "output_type": "execute_result",
          "data": {
            "text/plain": [
              "'\\n-> I considered data set from Kaggle website.\\nDataset:\\n. Link: https://www.kaggle.com/qusaybtoush1990/city-of-baltimore-crime-data\\n. There are 12 data columns in the dataset.\\n. The target column is 12 data columns \\n\\nCrime Date\\n\\nCrime Time\\n\\nCrime Code\\n\\nLocation\\n\\nDescription\\n\\nInside/Outside\\n\\nWeapon Post\\n\\nDistrict\\n\\nNeighborhood\\n\\nLocation 1\\n\\nTotal Incidents\\n\\nSteps to Clean the Text classification data:\\n. Removethe duplicate or irrelevant observations\\n. Fix structural errors\\n. Filter unwanted outliers\\n. Handle missing data\\n. Validate data accuracy\\n. Perform stemming and Lemmatization\\n. Remove unicode characters. \\n\\n'"
            ],
            "application/vnd.google.colaboratory.intrinsic+json": {
              "type": "string"
            }
          },
          "metadata": {},
          "execution_count": 3
        }
      ],
      "source": [
        "\"\"\"\n",
        "-> I considered data set from Kaggle website.\n",
        "Dataset:\n",
        ". Link: https://www.kaggle.com/qusaybtoush1990/city-of-baltimore-crime-data\n",
        ". There are 12 data columns in the dataset.\n",
        ". The target column is 12 data columns \n",
        "\n",
        "Crime Date\n",
        "\n",
        "Crime Time\n",
        "\n",
        "Crime Code\n",
        "\n",
        "Location\n",
        "\n",
        "Description\n",
        "\n",
        "Inside/Outside\n",
        "\n",
        "Weapon Post\n",
        "\n",
        "District\n",
        "\n",
        "Neighborhood\n",
        "\n",
        "Location 1\n",
        "\n",
        "Total Incidents\n",
        "\n",
        "Steps to Clean the Text classification data:\n",
        ". Removethe duplicate or irrelevant observations\n",
        ". Fix structural errors\n",
        ". Filter unwanted outliers\n",
        ". Handle missing data\n",
        ". Validate data accuracy\n",
        ". Perform stemming and Lemmatization\n",
        ". Remove unicode characters. \n",
        "\n",
        "\"\"\"\n",
        "\n",
        "     \n"
      ]
    },
    {
      "cell_type": "markdown",
      "metadata": {
        "id": "M9FlO4_hKAwv"
      },
      "source": [
        "Question 4 (20 points). Data cleaning: There are two datasets TwADR-L (from Twitter) and AskAPatient (Link: https://zenodo.org/record/55013#.YgU2NN-ZO4T) for medical concept\n",
        "normalization. However, the two datasets have serious data quality problems. Please read the introduction of the datasets and clean the two datasets by following the steps in the statement.\n",
        "\n",
        "In the original dataset, the TwADR-L had 48,057 training, 1,256 validation and 1,427 test examples. The test set (all\n",
        "test samples from 10 folds combined) consists of 765 unique phrases and 273 unique classes (medical concepts). The AskAPatient dataset contained 156,652 training, 7,926 validation, and 8,662 test examples. The entire test set (all test samples\n",
        "from 10 folds combined) consists of 3,749 unique phrases and 1,035 unique classes (medical concepts). The authors\n",
        "randomly split each dataset into ten equal folds, ran 10-fold cross validation and reported the accuracy averaged across the\n",
        "ten folds. \n",
        "\n",
        "We found that, in the original data set, many phrase-label pairs appeared multiple times within the same training data file\n",
        "and also across the training and test data sets in the same fold. In the AskAPatient data set, on average 35.82% of the test data overlapped with training data in the same fold. In the Twitter (TwADR-L) dataset, on average 8.62% of the test set had an overlap with the training data in the same fold. Having a large overlap between the training and the test data can potentially\n",
        "introduce bias in the model and contribute to high accuracy. It is not unlikely that the high model performance reported in the original paper may be triggered by the the large overlap between the training and test sets.\n",
        "\n",
        "Therefore to remove the bias, we further cleaned and recreated the training, validation, and test sets such that each\n",
        "phrase-label pair appears only once in the entire dataset (either in training, validation or test set).\n",
        "\n",
        "(1) First, we combined all examples in training, validation and test data from the original data set and then removed all\n",
        "duplicate phrase-label pairs (examples that have the same phrase and label pair and appear more than once in training/validation/test datasets). Table II shows the statistics of the new dataset (after removing duplicates). The Twitter data set had 3,157 unique phrase-label pairs and 2,220 unique labels (medical concepts) while 173 phrases had multiple labels (i.e., they were assigned to more than one label). Many concepts had only one example, and the concept that had the most number\n",
        "of examples had 36 phrases. On average, each concept had 1.42 examples. The AskAPatient data set had 4,496 unique phrase-label pairs, 1,036 unique labels while 26 phrases had multiple labels. Table III shows examples of phrases that had multiple labels. For example, ‘mad’ can be mapped to ‘anger’ or ‘rage’ and ‘sore’ can be mapped to ‘pain’ or ‘myalgia’.\n",
        "\n",
        "(2) Second, we remove all concepts that had less than five examples. The statistics of the final data are shown in Table IV.\n",
        "\n",
        "(3) Third, we divide all examples without multiple labels into random 10 folds such that each unique phrase-label pair\n",
        "appears once in one of the 10 test sets. We add the pairs with multiple labels into the training data. This final 10-folds\n",
        "dataset is used in all our experiments.\n",
        "\n",
        "(The original paper can be download on canvas)"
      ]
    },
    {
      "cell_type": "code",
      "source": [
        "from google.colab import drive \n",
        "drive.mount('/content/gdrive')"
      ],
      "metadata": {
        "id": "w_pOvOmLGgTa",
        "outputId": "21a90995-fe99-4387-d2cb-7e7809380167",
        "colab": {
          "base_uri": "https://localhost:8080/"
        }
      },
      "execution_count": 12,
      "outputs": [
        {
          "output_type": "stream",
          "name": "stdout",
          "text": [
            "Mounted at /content/gdrive\n"
          ]
        }
      ]
    },
    {
      "cell_type": "code",
      "source": [
        "df.columns"
      ],
      "metadata": {
        "id": "FLraV676RmKL",
        "outputId": "8e31f894-786e-4423-a9f9-6a7109ecca1b",
        "colab": {
          "base_uri": "https://localhost:8080/"
        }
      },
      "execution_count": 31,
      "outputs": [
        {
          "output_type": "execute_result",
          "data": {
            "text/plain": [
              "Index([], dtype='object')"
            ]
          },
          "metadata": {},
          "execution_count": 31
        }
      ]
    },
    {
      "cell_type": "code",
      "execution_count": 43,
      "metadata": {
        "colab": {
          "base_uri": "https://localhost:8080/",
          "height": 287
        },
        "id": "TMg8IXniKAwx",
        "outputId": "15943bf3-44c8-4c8a-b5eb-84254d781ce1"
      },
      "outputs": [
        {
          "output_type": "stream",
          "name": "stdout",
          "text": [
            "unzip:  cannot find or open /content/sample_data/datasets.zip, /content/sample_data/datasets.zip.zip or /content/sample_data/datasets.zip.ZIP.\n"
          ]
        },
        {
          "output_type": "execute_result",
          "data": {
            "text/plain": [
              "                             TwADR-L AskAPatient\n",
              "Unique_phrases                  2944        4470\n",
              "Unique_labels                   2220        1038\n",
              "Unique_phrase_label_pairs       3157        4507\n",
              "Phrases with multiple labels     173          35\n",
              "Min examples per label             1           1\n",
              "Max examples per label            36         141\n",
              "Avg examples per label          1.42        4.34"
            ],
            "text/html": [
              "\n",
              "  <div id=\"df-a0992a8c-ea92-49f5-951b-3e6ba6b1ffd1\">\n",
              "    <div class=\"colab-df-container\">\n",
              "      <div>\n",
              "<style scoped>\n",
              "    .dataframe tbody tr th:only-of-type {\n",
              "        vertical-align: middle;\n",
              "    }\n",
              "\n",
              "    .dataframe tbody tr th {\n",
              "        vertical-align: top;\n",
              "    }\n",
              "\n",
              "    .dataframe thead th {\n",
              "        text-align: right;\n",
              "    }\n",
              "</style>\n",
              "<table border=\"1\" class=\"dataframe\">\n",
              "  <thead>\n",
              "    <tr style=\"text-align: right;\">\n",
              "      <th></th>\n",
              "      <th>TwADR-L</th>\n",
              "      <th>AskAPatient</th>\n",
              "    </tr>\n",
              "  </thead>\n",
              "  <tbody>\n",
              "    <tr>\n",
              "      <th>Unique_phrases</th>\n",
              "      <td>2944</td>\n",
              "      <td>4470</td>\n",
              "    </tr>\n",
              "    <tr>\n",
              "      <th>Unique_labels</th>\n",
              "      <td>2220</td>\n",
              "      <td>1038</td>\n",
              "    </tr>\n",
              "    <tr>\n",
              "      <th>Unique_phrase_label_pairs</th>\n",
              "      <td>3157</td>\n",
              "      <td>4507</td>\n",
              "    </tr>\n",
              "    <tr>\n",
              "      <th>Phrases with multiple labels</th>\n",
              "      <td>173</td>\n",
              "      <td>35</td>\n",
              "    </tr>\n",
              "    <tr>\n",
              "      <th>Min examples per label</th>\n",
              "      <td>1</td>\n",
              "      <td>1</td>\n",
              "    </tr>\n",
              "    <tr>\n",
              "      <th>Max examples per label</th>\n",
              "      <td>36</td>\n",
              "      <td>141</td>\n",
              "    </tr>\n",
              "    <tr>\n",
              "      <th>Avg examples per label</th>\n",
              "      <td>1.42</td>\n",
              "      <td>4.34</td>\n",
              "    </tr>\n",
              "  </tbody>\n",
              "</table>\n",
              "</div>\n",
              "      <button class=\"colab-df-convert\" onclick=\"convertToInteractive('df-a0992a8c-ea92-49f5-951b-3e6ba6b1ffd1')\"\n",
              "              title=\"Convert this dataframe to an interactive table.\"\n",
              "              style=\"display:none;\">\n",
              "        \n",
              "  <svg xmlns=\"http://www.w3.org/2000/svg\" height=\"24px\"viewBox=\"0 0 24 24\"\n",
              "       width=\"24px\">\n",
              "    <path d=\"M0 0h24v24H0V0z\" fill=\"none\"/>\n",
              "    <path d=\"M18.56 5.44l.94 2.06.94-2.06 2.06-.94-2.06-.94-.94-2.06-.94 2.06-2.06.94zm-11 1L8.5 8.5l.94-2.06 2.06-.94-2.06-.94L8.5 2.5l-.94 2.06-2.06.94zm10 10l.94 2.06.94-2.06 2.06-.94-2.06-.94-.94-2.06-.94 2.06-2.06.94z\"/><path d=\"M17.41 7.96l-1.37-1.37c-.4-.4-.92-.59-1.43-.59-.52 0-1.04.2-1.43.59L10.3 9.45l-7.72 7.72c-.78.78-.78 2.05 0 2.83L4 21.41c.39.39.9.59 1.41.59.51 0 1.02-.2 1.41-.59l7.78-7.78 2.81-2.81c.8-.78.8-2.07 0-2.86zM5.41 20L4 18.59l7.72-7.72 1.47 1.35L5.41 20z\"/>\n",
              "  </svg>\n",
              "      </button>\n",
              "      \n",
              "  <style>\n",
              "    .colab-df-container {\n",
              "      display:flex;\n",
              "      flex-wrap:wrap;\n",
              "      gap: 12px;\n",
              "    }\n",
              "\n",
              "    .colab-df-convert {\n",
              "      background-color: #E8F0FE;\n",
              "      border: none;\n",
              "      border-radius: 50%;\n",
              "      cursor: pointer;\n",
              "      display: none;\n",
              "      fill: #1967D2;\n",
              "      height: 32px;\n",
              "      padding: 0 0 0 0;\n",
              "      width: 32px;\n",
              "    }\n",
              "\n",
              "    .colab-df-convert:hover {\n",
              "      background-color: #E2EBFA;\n",
              "      box-shadow: 0px 1px 2px rgba(60, 64, 67, 0.3), 0px 1px 3px 1px rgba(60, 64, 67, 0.15);\n",
              "      fill: #174EA6;\n",
              "    }\n",
              "\n",
              "    [theme=dark] .colab-df-convert {\n",
              "      background-color: #3B4455;\n",
              "      fill: #D2E3FC;\n",
              "    }\n",
              "\n",
              "    [theme=dark] .colab-df-convert:hover {\n",
              "      background-color: #434B5C;\n",
              "      box-shadow: 0px 1px 3px 1px rgba(0, 0, 0, 0.15);\n",
              "      filter: drop-shadow(0px 1px 2px rgba(0, 0, 0, 0.3));\n",
              "      fill: #FFFFFF;\n",
              "    }\n",
              "  </style>\n",
              "\n",
              "      <script>\n",
              "        const buttonEl =\n",
              "          document.querySelector('#df-a0992a8c-ea92-49f5-951b-3e6ba6b1ffd1 button.colab-df-convert');\n",
              "        buttonEl.style.display =\n",
              "          google.colab.kernel.accessAllowed ? 'block' : 'none';\n",
              "\n",
              "        async function convertToInteractive(key) {\n",
              "          const element = document.querySelector('#df-a0992a8c-ea92-49f5-951b-3e6ba6b1ffd1');\n",
              "          const dataTable =\n",
              "            await google.colab.kernel.invokeFunction('convertToInteractive',\n",
              "                                                     [key], {});\n",
              "          if (!dataTable) return;\n",
              "\n",
              "          const docLinkHtml = 'Like what you see? Visit the ' +\n",
              "            '<a target=\"_blank\" href=https://colab.research.google.com/notebooks/data_table.ipynb>data table notebook</a>'\n",
              "            + ' to learn more about interactive tables.';\n",
              "          element.innerHTML = '';\n",
              "          dataTable['output_type'] = 'display_data';\n",
              "          await google.colab.output.renderOutput(dataTable, element);\n",
              "          const docLink = document.createElement('div');\n",
              "          docLink.innerHTML = docLinkHtml;\n",
              "          element.appendChild(docLink);\n",
              "        }\n",
              "      </script>\n",
              "    </div>\n",
              "  </div>\n",
              "  "
            ]
          },
          "metadata": {},
          "execution_count": 43
        }
      ],
      "source": [
        "import glob\n",
        "import requests\n",
        "from bs4 import BeautifulSoup\n",
        "import numpy as np\n",
        "import time\n",
        "import pandas as pd\n",
        "import csv\n",
        "#unzip the dataset\n",
        "!unzip /content/sample_data/datasets.zip\n",
        "result_df =  pd.DataFrame()\n",
        "#initializing for loop for dataset\n",
        "for dataset in ['TwADR-L', 'AskAPatient']:\n",
        "    result = {}\n",
        "    df = pd.DataFrame()\n",
        "    for filepath in glob.glob('/content/gdrive/My Drive/datasets (1)/datasets/{}/*.txt'.format(dataset)):\n",
        "        data = pd.read_csv(filepath, sep = \"\\t\", header = None, encoding= 'unicode_escape')\n",
        "        #appending data\n",
        "        df = df.append(data)\n",
        "    df = df.reset_index(drop=True)\n",
        "    df['phrase_label'] = df[1] + \" \" + df[2]\n",
        "    df.columns = ['id', 'labels', 'phrases', 'phrase-label']\n",
        "    df = df.astype({\"id\": str})\n",
        "    for columns in df.columns:\n",
        "        df[columns] = df[columns].str.lower() \n",
        "    df = df.drop_duplicates('phrase-label')\n",
        "    result['Unique_phrases'] = str(len(df['phrases'].unique()))\n",
        "    result['Unique_labels'] = str(len(df['labels'].unique()))\n",
        "    result['Unique_phrase_label_pairs'] = str(df.shape[0])\n",
        "    df1 = pd.DataFrame(df['phrases'].value_counts())\n",
        "    result['Phrases with multiple labels'] = str(df1[df1['phrases'] > 1].shape[0])\n",
        "    result['Min examples per label'] = str(df['labels'].value_counts().values.min())\n",
        "    result['Max examples per label'] = str(df['labels'].value_counts().values.max())\n",
        "    result['Avg examples per label'] = round(df['labels'].value_counts().mean(),2)\n",
        "    result_df = result_df.append(result, ignore_index=True)\n",
        "result_df = result_df.T   \n",
        "result_df.columns = ['TwADR-L', 'AskAPatient']\n",
        "result_df"
      ]
    },
    {
      "cell_type": "code",
      "source": [
        "import pandas as pd\n",
        "import glob\n",
        "output_data_frame =  pd.DataFrame()\n",
        "\n",
        "# There are two datasets so we have to iterate through both of them \n",
        "for dataset in ['TwADR-L', 'AskAPatient']:\n",
        "    output = {}\n",
        "    data_frame = pd.DataFrame()\n",
        "    for filepath in glob.glob('/content/gdrive/My Drive/datasets (1)/datasets/{}/*.txt'.format(dataset)): #datasets are present in our google drive\n",
        "        data = pd.read_csv(filepath, sep = \"\\t\", header = None, encoding= 'unicode_escape') #read the datasets\n",
        "        data_frame = data_frame.append(data)\n",
        "\n",
        "    #combine all the text files present in the dataset and form a combined dataset\n",
        "    data_frame = data_frame.reset_index(drop=True)\n",
        "\n",
        "    data_frame['phrase_label'] = data_frame[1] + \" \" + data_frame[2]\n",
        "\n",
        "    data_frame.columns = ['id', 'labels', 'phrases', 'phrase-label']\n",
        "    #convert to strings\n",
        "    data_frame = data_frame.astype({\"id\": str})\n",
        "    # there are some uppercase letters lets convert them all to lower case\n",
        "    for columns in data_frame.columns:\n",
        "        data_frame[columns] = data_frame[columns].str.lower() \n",
        "\n",
        "    # clean the data by dropping the duplicates\n",
        "    data_frame = data_frame.drop_duplicates('phrase-label')\n",
        "\n",
        "    #Let's store the table values in dictionaries\n",
        "    output['Unique_phrases'] = len(data_frame['phrases'].unique())\n",
        "    output['Unique_labels'] = len(data_frame['labels'].unique())\n",
        "    output['Unique_phrase_label_pairs'] = data_frame.shape[0]\n",
        "    data_frame1 = pd.DataFrame(data_frame['phrases'].value_counts())\n",
        "    output['Phrases with multiple labels'] = data_frame1[data_frame1['phrases'] > 1].shape[0]\n",
        "    output['Min examples per label'] = data_frame['labels'].value_counts().values.min()\n",
        "    output['Max examples per label'] = data_frame['labels'].value_counts().values.max()\n",
        "    output['Avg examples per label'] = round(data_frame['labels'].value_counts().mean(), 2)\n",
        "    output_data_frame = output_data_frame.append(output, ignore_index=True)\n",
        "\n",
        "\n",
        "output_data_frame = output_data_frame.T\n",
        "output_data_frame = output_data_frame.astype({0: int, 1: int})\n",
        "output_data_frame.columns = ['TwADR-L', 'AskAPatient']\n",
        "\n",
        "print(output_data_frame)"
      ],
      "metadata": {
        "id": "mh4XhiqAOzo0",
        "outputId": "292678a8-286b-4e44-9e97-e98971a83078",
        "colab": {
          "base_uri": "https://localhost:8080/"
        }
      },
      "execution_count": 41,
      "outputs": [
        {
          "output_type": "stream",
          "name": "stdout",
          "text": [
            "                              TwADR-L  AskAPatient\n",
            "Unique_phrases                   2944         4470\n",
            "Unique_labels                    2220         1038\n",
            "Unique_phrase_label_pairs        3157         4507\n",
            "Phrases with multiple labels      173           35\n",
            "Min examples per label              1            1\n",
            "Max examples per label             36          141\n",
            "Avg examples per label              1            4\n"
          ]
        }
      ]
    },
    {
      "cell_type": "code",
      "execution_count": 44,
      "metadata": {
        "colab": {
          "base_uri": "https://localhost:8080/",
          "height": 287
        },
        "id": "CKJxNRw0KAw0",
        "outputId": "4bd053f4-8567-4ce0-f875-da7af2b52949"
      },
      "outputs": [
        {
          "output_type": "stream",
          "name": "stdout",
          "text": [
            "unzip:  cannot find or open /content/sample_data/datasets.zip, /content/sample_data/datasets.zip.zip or /content/sample_data/datasets.zip.ZIP.\n"
          ]
        },
        {
          "output_type": "execute_result",
          "data": {
            "text/plain": [
              "                             TwADR-L AskAPatient\n",
              "Unique_phrases                   616        2665\n",
              "Unique_labels                     76         233\n",
              "Unique_phrase_label_pairs        721        2686\n",
              "Phrases with multiple labels      87          19\n",
              "Min examples per label             5           5\n",
              "Max examples per label            36         141\n",
              "Avg examples per label          9.49       11.53"
            ],
            "text/html": [
              "\n",
              "  <div id=\"df-37a13faa-e4c5-49c1-a061-5b6e4371152b\">\n",
              "    <div class=\"colab-df-container\">\n",
              "      <div>\n",
              "<style scoped>\n",
              "    .dataframe tbody tr th:only-of-type {\n",
              "        vertical-align: middle;\n",
              "    }\n",
              "\n",
              "    .dataframe tbody tr th {\n",
              "        vertical-align: top;\n",
              "    }\n",
              "\n",
              "    .dataframe thead th {\n",
              "        text-align: right;\n",
              "    }\n",
              "</style>\n",
              "<table border=\"1\" class=\"dataframe\">\n",
              "  <thead>\n",
              "    <tr style=\"text-align: right;\">\n",
              "      <th></th>\n",
              "      <th>TwADR-L</th>\n",
              "      <th>AskAPatient</th>\n",
              "    </tr>\n",
              "  </thead>\n",
              "  <tbody>\n",
              "    <tr>\n",
              "      <th>Unique_phrases</th>\n",
              "      <td>616</td>\n",
              "      <td>2665</td>\n",
              "    </tr>\n",
              "    <tr>\n",
              "      <th>Unique_labels</th>\n",
              "      <td>76</td>\n",
              "      <td>233</td>\n",
              "    </tr>\n",
              "    <tr>\n",
              "      <th>Unique_phrase_label_pairs</th>\n",
              "      <td>721</td>\n",
              "      <td>2686</td>\n",
              "    </tr>\n",
              "    <tr>\n",
              "      <th>Phrases with multiple labels</th>\n",
              "      <td>87</td>\n",
              "      <td>19</td>\n",
              "    </tr>\n",
              "    <tr>\n",
              "      <th>Min examples per label</th>\n",
              "      <td>5</td>\n",
              "      <td>5</td>\n",
              "    </tr>\n",
              "    <tr>\n",
              "      <th>Max examples per label</th>\n",
              "      <td>36</td>\n",
              "      <td>141</td>\n",
              "    </tr>\n",
              "    <tr>\n",
              "      <th>Avg examples per label</th>\n",
              "      <td>9.49</td>\n",
              "      <td>11.53</td>\n",
              "    </tr>\n",
              "  </tbody>\n",
              "</table>\n",
              "</div>\n",
              "      <button class=\"colab-df-convert\" onclick=\"convertToInteractive('df-37a13faa-e4c5-49c1-a061-5b6e4371152b')\"\n",
              "              title=\"Convert this dataframe to an interactive table.\"\n",
              "              style=\"display:none;\">\n",
              "        \n",
              "  <svg xmlns=\"http://www.w3.org/2000/svg\" height=\"24px\"viewBox=\"0 0 24 24\"\n",
              "       width=\"24px\">\n",
              "    <path d=\"M0 0h24v24H0V0z\" fill=\"none\"/>\n",
              "    <path d=\"M18.56 5.44l.94 2.06.94-2.06 2.06-.94-2.06-.94-.94-2.06-.94 2.06-2.06.94zm-11 1L8.5 8.5l.94-2.06 2.06-.94-2.06-.94L8.5 2.5l-.94 2.06-2.06.94zm10 10l.94 2.06.94-2.06 2.06-.94-2.06-.94-.94-2.06-.94 2.06-2.06.94z\"/><path d=\"M17.41 7.96l-1.37-1.37c-.4-.4-.92-.59-1.43-.59-.52 0-1.04.2-1.43.59L10.3 9.45l-7.72 7.72c-.78.78-.78 2.05 0 2.83L4 21.41c.39.39.9.59 1.41.59.51 0 1.02-.2 1.41-.59l7.78-7.78 2.81-2.81c.8-.78.8-2.07 0-2.86zM5.41 20L4 18.59l7.72-7.72 1.47 1.35L5.41 20z\"/>\n",
              "  </svg>\n",
              "      </button>\n",
              "      \n",
              "  <style>\n",
              "    .colab-df-container {\n",
              "      display:flex;\n",
              "      flex-wrap:wrap;\n",
              "      gap: 12px;\n",
              "    }\n",
              "\n",
              "    .colab-df-convert {\n",
              "      background-color: #E8F0FE;\n",
              "      border: none;\n",
              "      border-radius: 50%;\n",
              "      cursor: pointer;\n",
              "      display: none;\n",
              "      fill: #1967D2;\n",
              "      height: 32px;\n",
              "      padding: 0 0 0 0;\n",
              "      width: 32px;\n",
              "    }\n",
              "\n",
              "    .colab-df-convert:hover {\n",
              "      background-color: #E2EBFA;\n",
              "      box-shadow: 0px 1px 2px rgba(60, 64, 67, 0.3), 0px 1px 3px 1px rgba(60, 64, 67, 0.15);\n",
              "      fill: #174EA6;\n",
              "    }\n",
              "\n",
              "    [theme=dark] .colab-df-convert {\n",
              "      background-color: #3B4455;\n",
              "      fill: #D2E3FC;\n",
              "    }\n",
              "\n",
              "    [theme=dark] .colab-df-convert:hover {\n",
              "      background-color: #434B5C;\n",
              "      box-shadow: 0px 1px 3px 1px rgba(0, 0, 0, 0.15);\n",
              "      filter: drop-shadow(0px 1px 2px rgba(0, 0, 0, 0.3));\n",
              "      fill: #FFFFFF;\n",
              "    }\n",
              "  </style>\n",
              "\n",
              "      <script>\n",
              "        const buttonEl =\n",
              "          document.querySelector('#df-37a13faa-e4c5-49c1-a061-5b6e4371152b button.colab-df-convert');\n",
              "        buttonEl.style.display =\n",
              "          google.colab.kernel.accessAllowed ? 'block' : 'none';\n",
              "\n",
              "        async function convertToInteractive(key) {\n",
              "          const element = document.querySelector('#df-37a13faa-e4c5-49c1-a061-5b6e4371152b');\n",
              "          const dataTable =\n",
              "            await google.colab.kernel.invokeFunction('convertToInteractive',\n",
              "                                                     [key], {});\n",
              "          if (!dataTable) return;\n",
              "\n",
              "          const docLinkHtml = 'Like what you see? Visit the ' +\n",
              "            '<a target=\"_blank\" href=https://colab.research.google.com/notebooks/data_table.ipynb>data table notebook</a>'\n",
              "            + ' to learn more about interactive tables.';\n",
              "          element.innerHTML = '';\n",
              "          dataTable['output_type'] = 'display_data';\n",
              "          await google.colab.output.renderOutput(dataTable, element);\n",
              "          const docLink = document.createElement('div');\n",
              "          docLink.innerHTML = docLinkHtml;\n",
              "          element.appendChild(docLink);\n",
              "        }\n",
              "      </script>\n",
              "    </div>\n",
              "  </div>\n",
              "  "
            ]
          },
          "metadata": {},
          "execution_count": 44
        }
      ],
      "source": [
        "import glob\n",
        "import requests\n",
        "from bs4 import BeautifulSoup\n",
        "import numpy as np\n",
        "import time\n",
        "import pandas as pd\n",
        "import csv\n",
        "!unzip /content/sample_data/datasets.zip\n",
        "result_df = pd.DataFrame()\n",
        "# we iterate through both datasets \n",
        "for dataset in ['TwADR-L', 'AskAPatient']:\n",
        "    df = pd.DataFrame()\n",
        "    result = {}\n",
        "    for filepath in glob.glob('/content/gdrive/My Drive/datasets (1)/datasets/{}/*.txt'.format(dataset)):\n",
        "        #print(filepath)\n",
        "        data = pd.read_csv(filepath, sep = \"\\t\", header = None, encoding= 'unicode_escape')\n",
        "        df = df.append(data)\n",
        "    # we create combined dataframe by combining Each dataset text files.\n",
        "    df = df.reset_index(drop=True)\n",
        "    df['phrase_label'] = df[1] + \" \" + df[2]\n",
        "    df.columns = ['id', 'labels', 'phrases', 'phrase-label']\n",
        "    #print(df.shape)\n",
        "    df = df.astype({\"id\": str})\n",
        "    # converting to lower case\n",
        "    for columns in df.columns:\n",
        "        df[columns] = df[columns].str.lower() \n",
        "\n",
        "    # we drop duplicates that are phrase-label pairs... \n",
        "    df = df.drop_duplicates('phrase-label')\n",
        "\n",
        "    index_list = []\n",
        "    for i in range(df.shape[0]):\n",
        "        if df['labels'].value_counts()[df.iloc[i]['labels']] < 5:\n",
        "            index_list.append(i)\n",
        "\n",
        "    # we drop the labels that have less than count of 5.\n",
        "    df.drop(df.index[index_list], inplace=True)\n",
        "    result = {}\n",
        "\n",
        "    if dataset == 'TwADR-L':\n",
        "      Twt_df = df\n",
        "    else:\n",
        "      Ask_df = df\n",
        " \n",
        "    # storing results of the table in dictionary\n",
        "    result['Unique_phrases'] = str(len(df['phrases'].unique()))\n",
        "    result['Unique_labels'] = str(len(df['labels'].unique()))\n",
        "    result['Unique_phrase_label_pairs'] = str(df.shape[0])\n",
        "    df1 = pd.DataFrame(df['phrases'].value_counts())\n",
        "    result['Phrases with multiple labels'] = str(df1[df1['phrases'] > 1].shape[0])\n",
        "    result['Min examples per label'] = str(df['labels'].value_counts().values.min())\n",
        "    result['Max examples per label'] = str(df['labels'].value_counts().values.max())\n",
        "    result['Avg examples per label'] = round(df['labels'].value_counts().mean(), 2)\n",
        "    # appending dictinary to dataframe\n",
        "    result_df = result_df.append(result, ignore_index=True)\n",
        "\n",
        "result_df = result_df.T\n",
        "result_df.columns = ['TwADR-L', 'AskAPatient']\n",
        "\n",
        "\n",
        "result_df"
      ]
    }
  ],
  "metadata": {
    "kernelspec": {
      "display_name": "Python 3 (ipykernel)",
      "language": "python",
      "name": "python3"
    },
    "language_info": {
      "codemirror_mode": {
        "name": "ipython",
        "version": 3
      },
      "file_extension": ".py",
      "mimetype": "text/x-python",
      "name": "python",
      "nbconvert_exporter": "python",
      "pygments_lexer": "ipython3",
      "version": "3.9.7"
    },
    "colab": {
      "name": "lab_assignment_03 (4).ipynb",
      "provenance": [],
      "include_colab_link": true
    }
  },
  "nbformat": 4,
  "nbformat_minor": 0
}