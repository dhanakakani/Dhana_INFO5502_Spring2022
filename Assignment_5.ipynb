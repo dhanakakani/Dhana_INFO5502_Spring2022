{
  "cells": [
    {
      "cell_type": "markdown",
      "metadata": {
        "id": "view-in-github",
        "colab_type": "text"
      },
      "source": [
        "<a href=\"https://colab.research.google.com/github/dhanakakani/Dhana_INFO5502_Spring2022/blob/master/Assignment_5.ipynb\" target=\"_parent\"><img src=\"https://colab.research.google.com/assets/colab-badge.svg\" alt=\"Open In Colab\"/></a>"
      ]
    },
    {
      "cell_type": "code",
      "execution_count": 1,
      "id": "aec6183f",
      "metadata": {
        "colab": {
          "base_uri": "https://localhost:8080/",
          "height": 0
        },
        "id": "aec6183f",
        "outputId": "3317f4ec-88b2-4e9c-8aa6-50c7fb34f7a2"
      },
      "outputs": [
        {
          "output_type": "stream",
          "name": "stdout",
          "text": [
            "Looking in indexes: https://pypi.org/simple, https://us-python.pkg.dev/colab-wheels/public/simple/\n",
            "Requirement already satisfied: pyforest in /usr/local/lib/python3.7/dist-packages (1.1.0)\n"
          ]
        }
      ],
      "source": [
        "#Importing  the automated pyforest library\n",
        "!pip install pyforest\n",
        "import pyforest\n",
        "import numpy as np\n",
        "import pandas as pd\n",
        "from nltk.corpus import stopwords"
      ]
    },
    {
      "cell_type": "code",
      "execution_count": 2,
      "id": "46fc10cb",
      "metadata": {
        "id": "46fc10cb"
      },
      "outputs": [],
      "source": [
        "#Importing metrics\n",
        "from sklearn.metrics import roc_auc_score"
      ]
    },
    {
      "cell_type": "code",
      "execution_count": 3,
      "id": "e3cf1ae7",
      "metadata": {
        "id": "e3cf1ae7"
      },
      "outputs": [],
      "source": [
        "#Below is the code reads the complete text file and also separate the labels such as Pos and Neg, and data \n",
        "from codecs import open\n",
        "from __future__ import division\n",
        "\n",
        "def read_documents(doc_file):\n",
        "    docs = []\n",
        "    labels = []\n",
        "    with open(doc_file, encoding='utf-8') as f:\n",
        "        for line in f:\n",
        "            words = line.strip().split()\n",
        "            docs.append(words[3:])\n",
        "            labels.append(words[1])\n",
        "    return docs, labels"
      ]
    },
    {
      "cell_type": "code",
      "source": [
        "from google.colab import files\n",
        "uploading=files.upload()"
      ],
      "metadata": {
        "colab": {
          "resources": {
            "http://localhost:8080/nbextensions/google.colab/files.js": {
              "data": "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",
              "ok": true,
              "headers": [
                [
                  "content-type",
                  "application/javascript"
                ]
              ],
              "status": 200,
              "status_text": ""
            }
          },
          "base_uri": "https://localhost:8080/",
          "height": 73
        },
        "id": "7cIEtNws3ddr",
        "outputId": "a855800f-251b-42a4-df68-5e7f5129b29a"
      },
      "id": "7cIEtNws3ddr",
      "execution_count": 4,
      "outputs": [
        {
          "output_type": "display_data",
          "data": {
            "text/plain": [
              "<IPython.core.display.HTML object>"
            ],
            "text/html": [
              "\n",
              "     <input type=\"file\" id=\"files-617cf219-02ab-4a36-9bc8-aa39e05fc359\" name=\"files[]\" multiple disabled\n",
              "        style=\"border:none\" />\n",
              "     <output id=\"result-617cf219-02ab-4a36-9bc8-aa39e05fc359\">\n",
              "      Upload widget is only available when the cell has been executed in the\n",
              "      current browser session. Please rerun this cell to enable.\n",
              "      </output>\n",
              "      <script src=\"/nbextensions/google.colab/files.js\"></script> "
            ]
          },
          "metadata": {}
        },
        {
          "output_type": "stream",
          "name": "stdout",
          "text": [
            "Saving all_sentiment_shuffled (1).txt to all_sentiment_shuffled (1) (1).txt\n"
          ]
        }
      ]
    },
    {
      "cell_type": "code",
      "execution_count": 5,
      "id": "c4e97999",
      "metadata": {
        "id": "c4e97999"
      },
      "outputs": [],
      "source": [
        "all_docs, all_labels = read_documents(\"all_sentiment_shuffled (1).txt\")\n"
      ]
    },
    {
      "cell_type": "code",
      "execution_count": 6,
      "id": "81d1e94a",
      "metadata": {
        "colab": {
          "base_uri": "https://localhost:8080/",
          "height": 0
        },
        "id": "81d1e94a",
        "outputId": "80b59611-0922-4672-82b4-89cf06f49137"
      },
      "outputs": [
        {
          "output_type": "stream",
          "name": "stderr",
          "text": [
            "/usr/local/lib/python3.7/dist-packages/pandas/util/_decorators.py:311: ParserWarning: Falling back to the 'python' engine because the 'c' engine does not support regex separators (separators > 1 char and different from '\\s+' are interpreted as regex); you can avoid this warning by specifying engine='python'.\n",
            "  return func(*args, **kwargs)\n"
          ]
        }
      ],
      "source": [
        "#Here I am just using pandas to convert the text file with help of other parameteres and also naming the labels and data  \n",
        "df = pd.read_csv('all_sentiment_shuffled (1).txt',sep='.txt', names=['result','txt'])\n"
      ]
    },
    {
      "cell_type": "code",
      "execution_count": 7,
      "id": "727ae2a4",
      "metadata": {
        "colab": {
          "base_uri": "https://localhost:8080/",
          "height": 423
        },
        "id": "727ae2a4",
        "outputId": "fe8029e9-58fe-4802-9c23-c1d367ef85d1"
      },
      "outputs": [
        {
          "output_type": "execute_result",
          "data": {
            "text/plain": [
              "                result                                                txt\n",
              "0        music neg 241   i bought this album because i loved the title...\n",
              "1        music neg 544   i was misled and thought i was buying the ent...\n",
              "2        books neg 729   i have introduced many of my ell , high schoo...\n",
              "3        books pos 278   anything you purchase in the left behind seri...\n",
              "4          dvd pos 840   i loved these movies , and i cant wiat for th...\n",
              "...                ...                                                ...\n",
              "11909       dvd neg 53   the story here dose n't matter . the main cha...\n",
              "11910  software pos 70   i liked everything about this product except ...\n",
              "11911   camera pos 864   this flash is the perfect back-up for a studi...\n",
              "11912   health neg 264   i had boughten this as a gift which turned ou...\n",
              "11913    health neg 83   the pedometer arrive held prisoner in a diffi...\n",
              "\n",
              "[11914 rows x 2 columns]"
            ],
            "text/html": [
              "\n",
              "  <div id=\"df-63e59110-9de6-4a4d-af07-e548e11fe3d2\">\n",
              "    <div class=\"colab-df-container\">\n",
              "      <div>\n",
              "<style scoped>\n",
              "    .dataframe tbody tr th:only-of-type {\n",
              "        vertical-align: middle;\n",
              "    }\n",
              "\n",
              "    .dataframe tbody tr th {\n",
              "        vertical-align: top;\n",
              "    }\n",
              "\n",
              "    .dataframe thead th {\n",
              "        text-align: right;\n",
              "    }\n",
              "</style>\n",
              "<table border=\"1\" class=\"dataframe\">\n",
              "  <thead>\n",
              "    <tr style=\"text-align: right;\">\n",
              "      <th></th>\n",
              "      <th>result</th>\n",
              "      <th>txt</th>\n",
              "    </tr>\n",
              "  </thead>\n",
              "  <tbody>\n",
              "    <tr>\n",
              "      <th>0</th>\n",
              "      <td>music neg 241</td>\n",
              "      <td>i bought this album because i loved the title...</td>\n",
              "    </tr>\n",
              "    <tr>\n",
              "      <th>1</th>\n",
              "      <td>music neg 544</td>\n",
              "      <td>i was misled and thought i was buying the ent...</td>\n",
              "    </tr>\n",
              "    <tr>\n",
              "      <th>2</th>\n",
              "      <td>books neg 729</td>\n",
              "      <td>i have introduced many of my ell , high schoo...</td>\n",
              "    </tr>\n",
              "    <tr>\n",
              "      <th>3</th>\n",
              "      <td>books pos 278</td>\n",
              "      <td>anything you purchase in the left behind seri...</td>\n",
              "    </tr>\n",
              "    <tr>\n",
              "      <th>4</th>\n",
              "      <td>dvd pos 840</td>\n",
              "      <td>i loved these movies , and i cant wiat for th...</td>\n",
              "    </tr>\n",
              "    <tr>\n",
              "      <th>...</th>\n",
              "      <td>...</td>\n",
              "      <td>...</td>\n",
              "    </tr>\n",
              "    <tr>\n",
              "      <th>11909</th>\n",
              "      <td>dvd neg 53</td>\n",
              "      <td>the story here dose n't matter . the main cha...</td>\n",
              "    </tr>\n",
              "    <tr>\n",
              "      <th>11910</th>\n",
              "      <td>software pos 70</td>\n",
              "      <td>i liked everything about this product except ...</td>\n",
              "    </tr>\n",
              "    <tr>\n",
              "      <th>11911</th>\n",
              "      <td>camera pos 864</td>\n",
              "      <td>this flash is the perfect back-up for a studi...</td>\n",
              "    </tr>\n",
              "    <tr>\n",
              "      <th>11912</th>\n",
              "      <td>health neg 264</td>\n",
              "      <td>i had boughten this as a gift which turned ou...</td>\n",
              "    </tr>\n",
              "    <tr>\n",
              "      <th>11913</th>\n",
              "      <td>health neg 83</td>\n",
              "      <td>the pedometer arrive held prisoner in a diffi...</td>\n",
              "    </tr>\n",
              "  </tbody>\n",
              "</table>\n",
              "<p>11914 rows × 2 columns</p>\n",
              "</div>\n",
              "      <button class=\"colab-df-convert\" onclick=\"convertToInteractive('df-63e59110-9de6-4a4d-af07-e548e11fe3d2')\"\n",
              "              title=\"Convert this dataframe to an interactive table.\"\n",
              "              style=\"display:none;\">\n",
              "        \n",
              "  <svg xmlns=\"http://www.w3.org/2000/svg\" height=\"24px\"viewBox=\"0 0 24 24\"\n",
              "       width=\"24px\">\n",
              "    <path d=\"M0 0h24v24H0V0z\" fill=\"none\"/>\n",
              "    <path d=\"M18.56 5.44l.94 2.06.94-2.06 2.06-.94-2.06-.94-.94-2.06-.94 2.06-2.06.94zm-11 1L8.5 8.5l.94-2.06 2.06-.94-2.06-.94L8.5 2.5l-.94 2.06-2.06.94zm10 10l.94 2.06.94-2.06 2.06-.94-2.06-.94-.94-2.06-.94 2.06-2.06.94z\"/><path d=\"M17.41 7.96l-1.37-1.37c-.4-.4-.92-.59-1.43-.59-.52 0-1.04.2-1.43.59L10.3 9.45l-7.72 7.72c-.78.78-.78 2.05 0 2.83L4 21.41c.39.39.9.59 1.41.59.51 0 1.02-.2 1.41-.59l7.78-7.78 2.81-2.81c.8-.78.8-2.07 0-2.86zM5.41 20L4 18.59l7.72-7.72 1.47 1.35L5.41 20z\"/>\n",
              "  </svg>\n",
              "      </button>\n",
              "      \n",
              "  <style>\n",
              "    .colab-df-container {\n",
              "      display:flex;\n",
              "      flex-wrap:wrap;\n",
              "      gap: 12px;\n",
              "    }\n",
              "\n",
              "    .colab-df-convert {\n",
              "      background-color: #E8F0FE;\n",
              "      border: none;\n",
              "      border-radius: 50%;\n",
              "      cursor: pointer;\n",
              "      display: none;\n",
              "      fill: #1967D2;\n",
              "      height: 32px;\n",
              "      padding: 0 0 0 0;\n",
              "      width: 32px;\n",
              "    }\n",
              "\n",
              "    .colab-df-convert:hover {\n",
              "      background-color: #E2EBFA;\n",
              "      box-shadow: 0px 1px 2px rgba(60, 64, 67, 0.3), 0px 1px 3px 1px rgba(60, 64, 67, 0.15);\n",
              "      fill: #174EA6;\n",
              "    }\n",
              "\n",
              "    [theme=dark] .colab-df-convert {\n",
              "      background-color: #3B4455;\n",
              "      fill: #D2E3FC;\n",
              "    }\n",
              "\n",
              "    [theme=dark] .colab-df-convert:hover {\n",
              "      background-color: #434B5C;\n",
              "      box-shadow: 0px 1px 3px 1px rgba(0, 0, 0, 0.15);\n",
              "      filter: drop-shadow(0px 1px 2px rgba(0, 0, 0, 0.3));\n",
              "      fill: #FFFFFF;\n",
              "    }\n",
              "  </style>\n",
              "\n",
              "      <script>\n",
              "        const buttonEl =\n",
              "          document.querySelector('#df-63e59110-9de6-4a4d-af07-e548e11fe3d2 button.colab-df-convert');\n",
              "        buttonEl.style.display =\n",
              "          google.colab.kernel.accessAllowed ? 'block' : 'none';\n",
              "\n",
              "        async function convertToInteractive(key) {\n",
              "          const element = document.querySelector('#df-63e59110-9de6-4a4d-af07-e548e11fe3d2');\n",
              "          const dataTable =\n",
              "            await google.colab.kernel.invokeFunction('convertToInteractive',\n",
              "                                                     [key], {});\n",
              "          if (!dataTable) return;\n",
              "\n",
              "          const docLinkHtml = 'Like what you see? Visit the ' +\n",
              "            '<a target=\"_blank\" href=https://colab.research.google.com/notebooks/data_table.ipynb>data table notebook</a>'\n",
              "            + ' to learn more about interactive tables.';\n",
              "          element.innerHTML = '';\n",
              "          dataTable['output_type'] = 'display_data';\n",
              "          await google.colab.output.renderOutput(dataTable, element);\n",
              "          const docLink = document.createElement('div');\n",
              "          docLink.innerHTML = docLinkHtml;\n",
              "          element.appendChild(docLink);\n",
              "        }\n",
              "      </script>\n",
              "    </div>\n",
              "  </div>\n",
              "  "
            ]
          },
          "metadata": {},
          "execution_count": 7
        }
      ],
      "source": [
        "df"
      ]
    },
    {
      "cell_type": "code",
      "execution_count": 8,
      "id": "cfdf2b2f",
      "metadata": {
        "id": "cfdf2b2f"
      },
      "outputs": [],
      "source": [
        "#In the result column i am spliting the string to seperate labels such as neg and pos\n",
        "df['result']=df['result'].str.split(' ').str[1]"
      ]
    },
    {
      "cell_type": "code",
      "execution_count": 9,
      "id": "9be83c01",
      "metadata": {
        "colab": {
          "base_uri": "https://localhost:8080/",
          "height": 0
        },
        "id": "9be83c01",
        "outputId": "5ab70df6-2dfc-4828-fdac-0f240aadab88"
      },
      "outputs": [
        {
          "output_type": "execute_result",
          "data": {
            "text/plain": [
              "0        neg\n",
              "1        neg\n",
              "2        neg\n",
              "3        pos\n",
              "4        pos\n",
              "        ... \n",
              "11909    neg\n",
              "11910    pos\n",
              "11911    pos\n",
              "11912    neg\n",
              "11913    neg\n",
              "Name: result, Length: 11914, dtype: object"
            ]
          },
          "metadata": {},
          "execution_count": 9
        }
      ],
      "source": [
        "df.result"
      ]
    },
    {
      "cell_type": "code",
      "execution_count": 10,
      "id": "e6d045df",
      "metadata": {
        "colab": {
          "base_uri": "https://localhost:8080/",
          "height": 0
        },
        "id": "e6d045df",
        "outputId": "af00d4e9-6262-47d0-eabf-173382fccef7"
      },
      "outputs": [
        {
          "output_type": "execute_result",
          "data": {
            "text/plain": [
              "result    0\n",
              "txt       0\n",
              "dtype: int64"
            ]
          },
          "metadata": {},
          "execution_count": 10
        }
      ],
      "source": [
        "df.isnull().sum()"
      ]
    },
    {
      "cell_type": "code",
      "execution_count": 11,
      "id": "2a2fc91a",
      "metadata": {
        "colab": {
          "base_uri": "https://localhost:8080/",
          "height": 0
        },
        "id": "2a2fc91a",
        "outputId": "33e87d3f-61af-4cde-c6a8-5ec8133f02f6"
      },
      "outputs": [
        {
          "output_type": "stream",
          "name": "stdout",
          "text": [
            "Counter({' ': 1794121, 'e': 797740, 't': 655306, 'a': 544958, 'o': 538743, 'i': 519515, 's': 459622, 'n': 443043, 'r': 398239, 'h': 348456, 'l': 286904, 'd': 250586, 'u': 205210, 'c': 195828, 'm': 177912, 'f': 145133, 'y': 145116, 'g': 143292, 'w': 132264, 'p': 132248, 'b': 114114, '.': 93134, 'v': 83015, ',': 66753, 'k': 62455, \"'\": 31493, '-': 16998, '\"': 16347, 'x': 14115, 'j': 13250, '0': 9765, ')': 8094, '(': 7815, 'q': 7772, 'z': 7684, '!': 7085, '1': 6333, '2': 5237, '5': 3587, '3': 3208, ';': 2960, '?': 2957, ':': 2638, '9': 2533, '&': 2338, '4': 2241, '/': 2216, '7': 2017, '6': 1932, '8': 1904, '*': 1130, '$': 1061, '_': 902, '`': 378, '%': 313, '[': 268, ']': 247, '+': 209, '#': 182, '=': 67, '@': 56, '~': 50, 'é': 41, 'ï': 27, '½': 23, '¿': 21, 'ó': 15, 'á': 14, '^': 12, '{': 12, '}': 11, '\\\\': 9, 'Á': 8, 'è': 7, 'ç': 5, 'ü': 5, 'ã': 3, 'í': 3, 'à': 2, '¡': 2, '®': 1, '¼': 1, 'É': 1, '|': 1, 'ä': 1, 'ö': 1, 'ú': 1, 'ê': 1})\n",
            "0\n",
            "0\n"
          ]
        }
      ],
      "source": [
        "#Here checking the frequency of each character in the document\n",
        "from collections import Counter\n",
        "\n",
        "example_documents = df['txt']\n",
        "\n",
        "freqs1 = Counter()\n",
        "for doc in example_documents:\n",
        "    for w in doc:\n",
        "        freqs1[w] += 1\n",
        "\n",
        "freqs2 = Counter()\n",
        "for doc in example_documents:\n",
        "    freqs2.update(doc)\n",
        "\n",
        "freqs3 = Counter(w for doc in example_documents for w in doc)\n",
        "\n",
        "print(freqs1)\n",
        "print(freqs1['the'])\n",
        "print(freqs1['neverseen'])"
      ]
    },
    {
      "cell_type": "code",
      "execution_count": 12,
      "id": "0d9332a3",
      "metadata": {
        "colab": {
          "base_uri": "https://localhost:8080/",
          "height": 0
        },
        "id": "0d9332a3",
        "outputId": "315d235f-c117-4054-b8b4-1e65e079841b"
      },
      "outputs": [
        {
          "output_type": "execute_result",
          "data": {
            "text/plain": [
              "Counter({' ': 1794121,\n",
              "         '!': 7085,\n",
              "         '\"': 16347,\n",
              "         '#': 182,\n",
              "         '$': 1061,\n",
              "         '%': 313,\n",
              "         '&': 2338,\n",
              "         \"'\": 31493,\n",
              "         '(': 7815,\n",
              "         ')': 8094,\n",
              "         '*': 1130,\n",
              "         '+': 209,\n",
              "         ',': 66753,\n",
              "         '-': 16998,\n",
              "         '.': 93134,\n",
              "         '/': 2216,\n",
              "         '0': 9765,\n",
              "         '1': 6333,\n",
              "         '2': 5237,\n",
              "         '3': 3208,\n",
              "         '4': 2241,\n",
              "         '5': 3587,\n",
              "         '6': 1932,\n",
              "         '7': 2017,\n",
              "         '8': 1904,\n",
              "         '9': 2533,\n",
              "         ':': 2638,\n",
              "         ';': 2960,\n",
              "         '=': 67,\n",
              "         '?': 2957,\n",
              "         '@': 56,\n",
              "         '[': 268,\n",
              "         '\\\\': 9,\n",
              "         ']': 247,\n",
              "         '^': 12,\n",
              "         '_': 902,\n",
              "         '`': 378,\n",
              "         'a': 544958,\n",
              "         'b': 114114,\n",
              "         'c': 195828,\n",
              "         'd': 250586,\n",
              "         'e': 797740,\n",
              "         'f': 145133,\n",
              "         'g': 143292,\n",
              "         'h': 348456,\n",
              "         'i': 519515,\n",
              "         'j': 13250,\n",
              "         'k': 62455,\n",
              "         'l': 286904,\n",
              "         'm': 177912,\n",
              "         'n': 443043,\n",
              "         'o': 538743,\n",
              "         'p': 132248,\n",
              "         'q': 7772,\n",
              "         'r': 398239,\n",
              "         's': 459622,\n",
              "         't': 655306,\n",
              "         'u': 205210,\n",
              "         'v': 83015,\n",
              "         'w': 132264,\n",
              "         'x': 14115,\n",
              "         'y': 145116,\n",
              "         'z': 7684,\n",
              "         '{': 12,\n",
              "         '|': 1,\n",
              "         '}': 11,\n",
              "         '~': 50,\n",
              "         '¡': 2,\n",
              "         '®': 1,\n",
              "         '¼': 1,\n",
              "         '½': 23,\n",
              "         '¿': 21,\n",
              "         'Á': 8,\n",
              "         'É': 1,\n",
              "         'à': 2,\n",
              "         'á': 14,\n",
              "         'ã': 3,\n",
              "         'ä': 1,\n",
              "         'ç': 5,\n",
              "         'è': 7,\n",
              "         'é': 41,\n",
              "         'ê': 1,\n",
              "         'í': 3,\n",
              "         'ï': 27,\n",
              "         'ó': 15,\n",
              "         'ö': 1,\n",
              "         'ú': 1,\n",
              "         'ü': 5})"
            ]
          },
          "metadata": {},
          "execution_count": 12
        }
      ],
      "source": [
        "freqs1"
      ]
    },
    {
      "cell_type": "code",
      "execution_count": 13,
      "id": "63b2e5da",
      "metadata": {
        "id": "63b2e5da"
      },
      "outputs": [],
      "source": [
        "#Here I am taking y as dependent feature where we predict if the word is pos or neg\n",
        "y=df.result"
      ]
    },
    {
      "cell_type": "code",
      "execution_count": 14,
      "id": "86b48f7c",
      "metadata": {
        "colab": {
          "base_uri": "https://localhost:8080/",
          "height": 0
        },
        "id": "86b48f7c",
        "outputId": "6ff68114-043e-406f-9992-16210577bb0e"
      },
      "outputs": [
        {
          "output_type": "execute_result",
          "data": {
            "text/plain": [
              "0        neg\n",
              "1        neg\n",
              "2        neg\n",
              "3        pos\n",
              "4        pos\n",
              "        ... \n",
              "11909    neg\n",
              "11910    pos\n",
              "11911    pos\n",
              "11912    neg\n",
              "11913    neg\n",
              "Name: result, Length: 11914, dtype: object"
            ]
          },
          "metadata": {},
          "execution_count": 14
        }
      ],
      "source": [
        "y"
      ]
    },
    {
      "cell_type": "code",
      "execution_count": 15,
      "id": "b1801394",
      "metadata": {
        "colab": {
          "base_uri": "https://localhost:8080/",
          "height": 0
        },
        "id": "b1801394",
        "outputId": "6327bb13-b9e3-42ca-f0e3-df26d5f9e652"
      },
      "outputs": [
        {
          "output_type": "stream",
          "name": "stderr",
          "text": [
            "[nltk_data] Downloading package stopwords to /root/nltk_data...\n",
            "[nltk_data]   Package stopwords is already up-to-date!\n"
          ]
        },
        {
          "output_type": "execute_result",
          "data": {
            "text/plain": [
              "True"
            ]
          },
          "metadata": {},
          "execution_count": 15
        }
      ],
      "source": [
        "#Import nltk and downloading stopwords\n",
        "import nltk\n",
        "nltk.download('stopwords')"
      ]
    },
    {
      "cell_type": "code",
      "execution_count": 16,
      "id": "551dc844",
      "metadata": {
        "id": "551dc844"
      },
      "outputs": [],
      "source": [
        "#Defining stopset words to 'english'\n",
        "stopset = set(stopwords.words('english'))"
      ]
    },
    {
      "cell_type": "code",
      "execution_count": 17,
      "id": "8c2085f0",
      "metadata": {
        "id": "8c2085f0"
      },
      "outputs": [],
      "source": [
        "#Here I am importing TfidVectorizer for text featue extraction from sklearn to convert the text data\n",
        "#In the below code I am vectorizing the charaters into matrix array that would be used build the model\n",
        "from sklearn.feature_extraction.text import TfidfVectorizer\n",
        "vectorizer = TfidfVectorizer(use_idf=True,lowercase=True, strip_accents='ascii',stop_words=stopset)\n",
        "x=vectorizer.fit_transform(df.txt)"
      ]
    },
    {
      "cell_type": "code",
      "execution_count": 18,
      "id": "643cb2ad",
      "metadata": {
        "colab": {
          "base_uri": "https://localhost:8080/",
          "height": 0
        },
        "id": "643cb2ad",
        "outputId": "73894f24-783e-4b68-f689-f978bcdeb346"
      },
      "outputs": [
        {
          "output_type": "execute_result",
          "data": {
            "text/plain": [
              "<11914x47135 sparse matrix of type '<class 'numpy.float64'>'\n",
              "\twith 649379 stored elements in Compressed Sparse Row format>"
            ]
          },
          "metadata": {},
          "execution_count": 18
        }
      ],
      "source": [
        "x"
      ]
    },
    {
      "cell_type": "code",
      "execution_count": 19,
      "id": "d77b36ad",
      "metadata": {
        "colab": {
          "base_uri": "https://localhost:8080/",
          "height": 0
        },
        "id": "d77b36ad",
        "outputId": "f9a05909-34b4-49c9-9c7f-3746f285d927"
      },
      "outputs": [
        {
          "output_type": "stream",
          "name": "stdout",
          "text": [
            "(11914, 47135)\n",
            "(11914,)\n"
          ]
        }
      ],
      "source": [
        "print(x.shape)\n",
        "print(y.shape)"
      ]
    },
    {
      "cell_type": "code",
      "execution_count": 20,
      "id": "a2836f62",
      "metadata": {
        "colab": {
          "base_uri": "https://localhost:8080/",
          "height": 17
        },
        "id": "a2836f62",
        "outputId": "7d7d02d5-3f17-4d1b-a1d4-ec59ebd45c5e"
      },
      "outputs": [
        {
          "output_type": "display_data",
          "data": {
            "text/plain": [
              "<IPython.core.display.Javascript object>"
            ],
            "application/javascript": [
              "\n",
              "        if (window._pyforest_update_imports_cell) { window._pyforest_update_imports_cell('from sklearn.model_selection import train_test_split'); }\n",
              "    "
            ]
          },
          "metadata": {}
        }
      ],
      "source": [
        "#Here I am splitting the data into 80:20 and setting random state as 5\n",
        "x_train,x_test,y_train,y_test = train_test_split(x,y, test_size = 0.20, random_state = 5)"
      ]
    },
    {
      "cell_type": "code",
      "execution_count": 21,
      "id": "8634b880",
      "metadata": {
        "id": "8634b880"
      },
      "outputs": [],
      "source": [
        "#Importing the model\n",
        "from sklearn.naive_bayes import MultinomialNB"
      ]
    },
    {
      "cell_type": "code",
      "execution_count": 22,
      "id": "376bce7a",
      "metadata": {
        "id": "376bce7a"
      },
      "outputs": [],
      "source": [
        "#defining the model\n",
        "mod = MultinomialNB()"
      ]
    },
    {
      "cell_type": "code",
      "execution_count": 23,
      "id": "24bf15c5",
      "metadata": {
        "colab": {
          "base_uri": "https://localhost:8080/",
          "height": 0
        },
        "id": "24bf15c5",
        "outputId": "92eb2134-12ff-43f7-83db-c7d37609758d"
      },
      "outputs": [
        {
          "output_type": "execute_result",
          "data": {
            "text/plain": [
              "MultinomialNB()"
            ]
          },
          "metadata": {},
          "execution_count": 23
        }
      ],
      "source": [
        "#Fitting the model with train data\n",
        "mod.fit(x_train,y_train)"
      ]
    },
    {
      "cell_type": "code",
      "execution_count": 24,
      "id": "409fcc2a",
      "metadata": {
        "colab": {
          "base_uri": "https://localhost:8080/",
          "height": 17
        },
        "id": "409fcc2a",
        "outputId": "2f74d032-f12d-413f-fb6f-cd70b3ed33f2"
      },
      "outputs": [
        {
          "output_type": "display_data",
          "data": {
            "text/plain": [
              "<IPython.core.display.Javascript object>"
            ],
            "application/javascript": [
              "\n",
              "        if (window._pyforest_update_imports_cell) { window._pyforest_update_imports_cell('from sklearn.model_selection import KFold\\nfrom sklearn.model_selection import train_test_split'); }\n",
              "    "
            ]
          },
          "metadata": {}
        }
      ],
      "source": [
        "#kf for cross validation of the data\n",
        "kf = KFold(n_splits = 7, shuffle=True, random_state = 5)"
      ]
    },
    {
      "cell_type": "code",
      "execution_count": 25,
      "id": "a75c7532",
      "metadata": {
        "colab": {
          "base_uri": "https://localhost:8080/",
          "height": 54
        },
        "id": "a75c7532",
        "outputId": "3347a96b-773d-4f50-e301-7ccc748771ea"
      },
      "outputs": [
        {
          "output_type": "display_data",
          "data": {
            "text/plain": [
              "<IPython.core.display.Javascript object>"
            ],
            "application/javascript": [
              "\n",
              "        if (window._pyforest_update_imports_cell) { window._pyforest_update_imports_cell('from sklearn.model_selection import cross_val_score\\nfrom sklearn.model_selection import train_test_split\\nfrom sklearn.model_selection import KFold'); }\n",
              "    "
            ]
          },
          "metadata": {}
        },
        {
          "output_type": "execute_result",
          "data": {
            "text/plain": [
              "array([0.82232012, 0.82745962, 0.80910426, 0.81938326, 0.81337252,\n",
              "       0.82880235, 0.8104335 ])"
            ]
          },
          "metadata": {},
          "execution_count": 25
        }
      ],
      "source": [
        "#Deriving the score for all the 7 splits\n",
        "score = cross_val_score(mod,x_train,y_train,cv=kf)\n",
        "score"
      ]
    },
    {
      "cell_type": "code",
      "execution_count": 26,
      "id": "803b4365",
      "metadata": {
        "colab": {
          "base_uri": "https://localhost:8080/",
          "height": 0
        },
        "id": "803b4365",
        "outputId": "0c4e1e0d-5ca2-4ac7-876f-19926e423814"
      },
      "outputs": [
        {
          "output_type": "execute_result",
          "data": {
            "text/plain": [
              "0.8186965186045934"
            ]
          },
          "metadata": {},
          "execution_count": 26
        }
      ],
      "source": [
        "#Find the average score for 7 splits\n",
        "avg_score = score.mean()\n",
        "avg_score"
      ]
    },
    {
      "cell_type": "code",
      "execution_count": 27,
      "id": "0af8d979",
      "metadata": {
        "colab": {
          "base_uri": "https://localhost:8080/",
          "height": 0
        },
        "id": "0af8d979",
        "outputId": "e4dade82-3f95-4dda-f101-0eeccb5c8bb5"
      },
      "outputs": [
        {
          "output_type": "execute_result",
          "data": {
            "text/plain": [
              "0.9351589549889833"
            ]
          },
          "metadata": {},
          "execution_count": 27
        }
      ],
      "source": [
        "#Below checking the score for train data\n",
        "mod.score(x_train,y_train)"
      ]
    },
    {
      "cell_type": "code",
      "execution_count": 28,
      "id": "8e8dcc94",
      "metadata": {
        "colab": {
          "base_uri": "https://localhost:8080/",
          "height": 0
        },
        "id": "8e8dcc94",
        "outputId": "bac1da95-3a5e-436b-8865-17871cab0608"
      },
      "outputs": [
        {
          "output_type": "execute_result",
          "data": {
            "text/plain": [
              "0.8271086865295846"
            ]
          },
          "metadata": {},
          "execution_count": 28
        }
      ],
      "source": [
        "#Below checking the score for test data\n",
        "mod.score(x_test,y_test)"
      ]
    },
    {
      "cell_type": "code",
      "execution_count": 29,
      "id": "0fd00fdf",
      "metadata": {
        "colab": {
          "base_uri": "https://localhost:8080/",
          "height": 0
        },
        "id": "0fd00fdf",
        "outputId": "6981d7f9-a632-4700-fbca-4aae2a99e6ad"
      },
      "outputs": [
        {
          "output_type": "execute_result",
          "data": {
            "text/plain": [
              "array(['pos', 'pos', 'pos', ..., 'pos', 'neg', 'neg'], dtype='<U3')"
            ]
          },
          "metadata": {},
          "execution_count": 29
        }
      ],
      "source": [
        "#Predicting the labels\n",
        "pr = mod.predict(x_test)\n",
        "pr"
      ]
    },
    {
      "cell_type": "code",
      "execution_count": 30,
      "id": "63f147a9",
      "metadata": {
        "id": "63f147a9"
      },
      "outputs": [],
      "source": [
        "#Below i am checking the label while we give a sentance\n",
        "word = np.array([\"not working\"])"
      ]
    },
    {
      "cell_type": "code",
      "execution_count": 31,
      "id": "308b9c18",
      "metadata": {
        "id": "308b9c18"
      },
      "outputs": [],
      "source": [
        "#Vectorizing the word\n",
        "word_vector = vectorizer.transform(word)"
      ]
    },
    {
      "cell_type": "code",
      "execution_count": 32,
      "id": "04c4bb95",
      "metadata": {
        "colab": {
          "base_uri": "https://localhost:8080/",
          "height": 0
        },
        "id": "04c4bb95",
        "outputId": "45c2b9a3-c99a-4f2b-842d-9b2d10d6996c"
      },
      "outputs": [
        {
          "output_type": "stream",
          "name": "stdout",
          "text": [
            "['neg']\n"
          ]
        }
      ],
      "source": [
        "#Obtaining the label for the sentance\n",
        "print(mod.predict(word_vector))"
      ]
    },
    {
      "cell_type": "code",
      "execution_count": 33,
      "id": "ef918cb8",
      "metadata": {
        "id": "ef918cb8"
      },
      "outputs": [],
      "source": [
        "word = np.array([\"welcome to money\"])"
      ]
    },
    {
      "cell_type": "code",
      "execution_count": 34,
      "id": "cba8e156",
      "metadata": {
        "id": "cba8e156"
      },
      "outputs": [],
      "source": [
        "word_vector = vectorizer.transform(word)"
      ]
    },
    {
      "cell_type": "code",
      "execution_count": 35,
      "id": "3cfbb063",
      "metadata": {
        "colab": {
          "base_uri": "https://localhost:8080/",
          "height": 0
        },
        "id": "3cfbb063",
        "outputId": "cfe9f66f-964e-4595-a606-1064d55965ba"
      },
      "outputs": [
        {
          "output_type": "stream",
          "name": "stdout",
          "text": [
            "['pos']\n"
          ]
        }
      ],
      "source": [
        "print(mod.predict(word_vector))"
      ]
    },
    {
      "cell_type": "code",
      "execution_count": 36,
      "id": "3d2f47cc",
      "metadata": {
        "colab": {
          "base_uri": "https://localhost:8080/",
          "height": 283
        },
        "id": "3d2f47cc",
        "outputId": "be4173ca-2451-44f9-c16c-b7de62a316ac"
      },
      "outputs": [
        {
          "output_type": "display_data",
          "data": {
            "text/plain": [
              "<IPython.core.display.Javascript object>"
            ],
            "application/javascript": [
              "\n",
              "        if (window._pyforest_update_imports_cell) { window._pyforest_update_imports_cell('from sklearn.model_selection import train_test_split\\nfrom sklearn.model_selection import cross_val_score\\nimport seaborn as sns\\nfrom sklearn.model_selection import KFold'); }\n",
              "    "
            ]
          },
          "metadata": {}
        },
        {
          "output_type": "execute_result",
          "data": {
            "text/plain": [
              "<matplotlib.axes._subplots.AxesSubplot at 0x7f372e238090>"
            ]
          },
          "metadata": {},
          "execution_count": 36
        },
        {
          "output_type": "display_data",
          "data": {
            "text/plain": [
              "<Figure size 432x288 with 2 Axes>"
            ],
            "image/png": "[encoded data removed]"
          },
          "metadata": {
            "needs_background": "light"
          }
        }
      ],
      "source": [
        "#Defining the confusion Matrix\n",
        "from sklearn.metrics import confusion_matrix\n",
        "cm = confusion_matrix(y_test, pr)\n",
        "\n",
        "sns.heatmap(cm,annot=True,fmt='d')"
      ]
    }
  ],
  "metadata": {
    "kernelspec": {
      "display_name": "Python 3 (ipykernel)",
      "language": "python",
      "name": "python3"
    },
    "language_info": {
      "codemirror_mode": {
        "name": "ipython",
        "version": 3
      },
      "file_extension": ".py",
      "mimetype": "text/x-python",
      "name": "python",
      "nbconvert_exporter": "python",
      "pygments_lexer": "ipython3",
      "version": "3.9.7"
    },
    "colab": {
      "name": "Assignment_5.ipynb",
      "provenance": [],
      "collapsed_sections": [],
      "include_colab_link": true
    }
  },
  "nbformat": 4,
  "nbformat_minor": 5
}