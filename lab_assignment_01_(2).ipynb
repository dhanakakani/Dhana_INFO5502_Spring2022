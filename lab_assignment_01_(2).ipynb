{
  "cells": [
    {
      "cell_type": "markdown",
      "metadata": {
        "id": "view-in-github",
        "colab_type": "text"
      },
      "source": [
        "<a href=\"https://colab.research.google.com/github/dhanakakani/Dhana_INFO5502_Spring2022/blob/master/lab_assignment_01_(2).ipynb\" target=\"_parent\"><img src=\"https://colab.research.google.com/assets/colab-badge.svg\" alt=\"Open In Colab\"/></a>"
      ]
    },
    {
      "cell_type": "markdown",
      "metadata": {
        "id": "DymRJbxDBCnf"
      },
      "source": [
        "# **The first Lab-assignment (01/25/2022, 50 points in total)**"
      ]
    },
    {
      "cell_type": "markdown",
      "metadata": {
        "id": "jJDe71iLB616"
      },
      "source": [
        "(1) Write a Python program to count the number of characters in a string. (5 points)\n",
        "\n",
        "Sample String : 'google.com', \n",
        "\n",
        "Expected Result : {'o': 3, 'g': 2, '.': 1, 'e': 1, 'l': 1, 'm': 1, 'c': 1}"
      ]
    },
    {
      "cell_type": "code",
      "execution_count": 39,
      "metadata": {
        "colab": {
          "base_uri": "https://localhost:8080/"
        },
        "id": "MtKskTzbCLaU",
        "outputId": "8b9233bb-621f-417d-dbaa-7d262b692e46"
      },
      "outputs": [
        {
          "output_type": "stream",
          "name": "stdout",
          "text": [
            "google.com\n",
            "{'g': 2, 'o': 3, 'l': 1, 'e': 1, '.': 1, 'c': 1, 'm': 1}\n"
          ]
        }
      ],
      "source": [
        "# write your answer here\n",
        "dictionary={}\n",
        "a=input()\n",
        "for i in a:\n",
        "  b=dictionary.keys()\n",
        "  if i in b:\n",
        "    dictionary[i]+=1\n",
        "  else:\n",
        "    dictionary[i]=1\n",
        "print(dictionary)    \n"
      ]
    },
    {
      "cell_type": "markdown",
      "metadata": {
        "id": "55W9AMdXCSpV"
      },
      "source": [
        "(2) Write a Python program to sum all the items in a list. (5 points)"
      ]
    },
    {
      "cell_type": "code",
      "execution_count": 38,
      "metadata": {
        "colab": {
          "base_uri": "https://localhost:8080/"
        },
        "id": "I57NXsauCec2",
        "outputId": "a9f1c2ee-ba62-42e5-ba92-431609957f79"
      },
      "outputs": [
        {
          "output_type": "stream",
          "name": "stdout",
          "text": [
            "150\n"
          ]
        }
      ],
      "source": [
        "# write your answer here\n",
        "list=[12,23,34,35,46]\n",
        "sum=list[0]+list[1]+list[2]+list[3]+list[4]\n",
        "print(sum)\n",
        "\n",
        "\n",
        "\n"
      ]
    },
    {
      "cell_type": "markdown",
      "metadata": {
        "id": "4ulBZ6yhCi9F"
      },
      "source": [
        "(3) Write a Python program to get a string from a given string where all occurrences of its first char have been changed to '\\$', except the first char itself. (5 points)\n",
        "\n",
        "Sample String : 'restart', \n",
        "\n",
        "Expected Result : 'resta\\$t'"
      ]
    },
    {
      "cell_type": "code",
      "execution_count": 26,
      "metadata": {
        "colab": {
          "base_uri": "https://localhost:8080/"
        },
        "id": "Fj0XhwbBCw2o",
        "outputId": "3b19c6c5-3d15-42a2-f8b0-60a64dac8784"
      },
      "outputs": [
        {
          "output_type": "stream",
          "name": "stdout",
          "text": [
            "restart\n",
            "resta$t\n"
          ]
        }
      ],
      "source": [
        "# write your answer here\n",
        "a=input()\n",
        "def s(string):\n",
        "  b=string[0]\n",
        "  string=string.replace(b,'$')\n",
        "  string=b+string[1:]\n",
        "  return string\n",
        "print(s(a))\n",
        "\n",
        "\n"
      ]
    },
    {
      "cell_type": "markdown",
      "metadata": {
        "id": "_bIP7s1MCzue"
      },
      "source": [
        "(4) Write a program with python which could accept two parameter a and b to calculate and output the result of S, where \n",
        "\n",
        "$\\ S=3.14*(1+a/b)^3$ (5 points)\n",
        "\n"
      ]
    },
    {
      "cell_type": "code",
      "execution_count": 14,
      "metadata": {
        "colab": {
          "base_uri": "https://localhost:8080/"
        },
        "id": "w79QilHXD3Mg",
        "outputId": "6592828f-d9dd-4e3c-8ef4-b839900224b3"
      },
      "outputs": [
        {
          "output_type": "stream",
          "name": "stdout",
          "text": [
            "23\n",
            "2\n",
            "6132.8125\n"
          ]
        }
      ],
      "source": [
        "# write your answer here\n",
        "a=float(input())\n",
        "b=float(input())\n",
        "c=1+a/b\n",
        "s=3.14*c*c*c\n",
        "print(s)\n"
      ]
    },
    {
      "cell_type": "markdown",
      "metadata": {
        "id": "xCa2bK9aD4Q3"
      },
      "source": [
        "(5) Write a Python program to concatenate following dictionaries to create a new one. (5 points)\n",
        "\n",
        "Sample Dictionary : dic1={1:10, 2:20}, dic2={3:30, 4:40}, dic3={5:50,6:60}, \n",
        "\n",
        "Expected Result : {1: 10, 2: 20, 3: 30, 4: 40, 5: 50, 6: 60}\n"
      ]
    },
    {
      "cell_type": "code",
      "execution_count": 15,
      "metadata": {
        "colab": {
          "base_uri": "https://localhost:8080/"
        },
        "id": "_z4aLqAbEET1",
        "outputId": "11be5118-a5f5-48c1-b947-75f18192b844"
      },
      "outputs": [
        {
          "output_type": "stream",
          "name": "stdout",
          "text": [
            "{1: 10, 2: 20, 3: 30, 4: 40, 5: 50, 6: 60}\n"
          ]
        }
      ],
      "source": [
        "# write your answer here\n",
        "dic1={1:10,2:20}\n",
        "dic2={3:30,4:40}\n",
        "dic3={5:50,6:60}\n",
        "new_dic={**dic1,**dic2,**dic3}\n",
        "print(new_dic)\n"
      ]
    },
    {
      "cell_type": "markdown",
      "metadata": {
        "id": "0v48Vqa7FrQh"
      },
      "source": [
        "(6) Write a Python program to check whether an element exists within a tuple. (5 points)"
      ]
    },
    {
      "cell_type": "code",
      "execution_count": 23,
      "metadata": {
        "colab": {
          "base_uri": "https://localhost:8080/"
        },
        "id": "7WEmgq-DF2P1",
        "outputId": "16ae699f-bc84-4d55-b082-0fb6691e8270"
      },
      "outputs": [
        {
          "output_type": "stream",
          "name": "stdout",
          "text": [
            "23\n",
            "23 is present in tuple\n"
          ]
        }
      ],
      "source": [
        "# write your answer here\n",
        "tuple=(23,12,90,34,12)\n",
        "element=int(input())\n",
        "if element in tuple:\n",
        "  print(element,\"is present in tuple\")\n",
        "else:\n",
        "  print(element,\"is not present in tuple\") \n"
      ]
    },
    {
      "cell_type": "markdown",
      "metadata": {
        "id": "vD5PYLMuGga_"
      },
      "source": [
        "(7) Write a Python program to find maximum and the minimum value in a set. (5 points)"
      ]
    },
    {
      "cell_type": "code",
      "execution_count": 24,
      "metadata": {
        "colab": {
          "base_uri": "https://localhost:8080/"
        },
        "id": "t0D5kdJUGjjw",
        "outputId": "e1d72ae8-c1ec-4b32-afb4-87141918ffde"
      },
      "outputs": [
        {
          "output_type": "stream",
          "name": "stdout",
          "text": [
            "23\n",
            "98\n"
          ]
        }
      ],
      "source": [
        "# write your answer here\n",
        "from typing import Set\n",
        "set1={23,56,34,98,34,56}\n",
        "print(min(set1))\n",
        "print(max(set1))\n"
      ]
    },
    {
      "cell_type": "markdown",
      "metadata": {
        "id": "uHkd-y5VhVWC"
      },
      "source": [
        "(8) Write a Python program to randomly divide the students in this class into six groups for term projects, each group should have at least 4 students but no more than 6 students (including 6). Here is the students list: (5 points)\n",
        "\n",
        "studnet_list = ['ja0964','sa1198','sb1357','vb0218','sc1229','kg0569','kg0470','sg1297','bg0320','fh0141','jl1252','sk1386',\n",
        "           'ak0956','sk1390','sk1458','sk1313','ak0934','vm0377','nm0618','sm1640','sm1907','gn0108','pr0353','dr0609','ms1500','aos0040','ds0814', 'av0659','nv0234','hy0232']"
      ]
    },
    {
      "cell_type": "code",
      "execution_count": 74,
      "metadata": {
        "colab": {
          "base_uri": "https://localhost:8080/"
        },
        "id": "3iGbmcOBhTwy",
        "outputId": "8277c00c-8561-49df-fd97-de3ac8df4c26"
      },
      "outputs": [
        {
          "output_type": "stream",
          "name": "stdout",
          "text": [
            "['sc1229', 'sb1357', 'ak0934', 'jl1252', 'sa1198', 'sm1907']\n",
            "['bg0320', 'kg0470', 'vb0218', 'sk1386']\n",
            "['sa1198', 'sk1458', 'dr0609', 'ja0964', 'sm1640', 'sk1313']\n",
            "['ds0814', 'pr0353', 'gn0108', 'nm0618', 'dr0609', 'fh0141']\n",
            "['dr0609', 'ak0956', 'sc1229', 'sg1297', 'ms1500', 'aos0040']\n",
            "['ak0934', 'ds0814', 'aos0040', 'bg0320']\n"
          ]
        }
      ],
      "source": [
        "# write your answer here\n",
        "from random import sample,randint\n",
        "stdlist=['ja0964','sa1198','sb1357','vb0218','sc1229','kg0569','kg0470','sg1297','bg0320','fh0141','jl1252','sk1386', 'ak0956','sk1390','sk1458','sk1313','ak0934','vm0377','nm0618','sm1640','sm1907','gn0108','pr0353','dr0609','ms1500','aos0040','ds0814', 'av0659','nv0234','hy0232']\n",
        "def group(stdlist:list,numbers:int):\n",
        "  for i in range(numbers):\n",
        "    print(sample(stdlist,randint(4,6)))\n",
        "numbers=6\n",
        "group(stdlist,numbers)"
      ]
    },
    {
      "cell_type": "markdown",
      "metadata": {
        "id": "Bx77SFxlpWfB"
      },
      "source": [
        "(9) Write a Python program to find the duplicate elements in a given array of integers. Return -1 If there are no such elements. (5 points)"
      ]
    },
    {
      "cell_type": "code",
      "execution_count": 58,
      "metadata": {
        "colab": {
          "base_uri": "https://localhost:8080/"
        },
        "id": "TStNXSsppWfC",
        "outputId": "41fcf8d7-a87b-48d5-8191-8f748ea27ac7"
      },
      "outputs": [
        {
          "output_type": "stream",
          "name": "stdout",
          "text": [
            "[7, 3, 5]\n",
            "-1\n"
          ]
        }
      ],
      "source": [
        "\n",
        "# write your answer here\n",
        "def duplicate_number(num):\n",
        "  n_set=set()\n",
        "  duplicate=-1\n",
        "  for i in range(len(num)):\n",
        "    if num[i] in n_set:\n",
        "      return num[i]\n",
        "    else:\n",
        "      n_set.add(num[i])\n",
        "    return duplicate\n",
        "print(dup([1,3,5,7,7,3,5,9]))\n",
        "print(d([1,2,3,4]))    "
      ]
    },
    {
      "cell_type": "markdown",
      "metadata": {
        "id": "iQFHlZAcpWfD"
      },
      "source": [
        "(10) Write a Python program to select all the Sundays of a specified year. (5 extra points)"
      ]
    },
    {
      "cell_type": "code",
      "execution_count": 69,
      "metadata": {
        "colab": {
          "base_uri": "https://localhost:8080/"
        },
        "id": "iYda3iCrpWfD",
        "outputId": "7f14b60b-7759-41ca-ee2b-7ba40b2d57e3"
      },
      "outputs": [
        {
          "output_type": "stream",
          "name": "stdout",
          "text": [
            "2022-01-02\n",
            "2022-01-09\n",
            "2022-01-16\n",
            "2022-01-23\n",
            "2022-01-30\n",
            "2022-02-06\n",
            "2022-02-13\n",
            "2022-02-20\n",
            "2022-02-27\n",
            "2022-03-06\n",
            "2022-03-13\n",
            "2022-03-20\n",
            "2022-03-27\n",
            "2022-04-03\n",
            "2022-04-10\n",
            "2022-04-17\n",
            "2022-04-24\n",
            "2022-05-01\n",
            "2022-05-08\n",
            "2022-05-15\n",
            "2022-05-22\n",
            "2022-05-29\n",
            "2022-06-05\n",
            "2022-06-12\n",
            "2022-06-19\n",
            "2022-06-26\n",
            "2022-07-03\n",
            "2022-07-10\n",
            "2022-07-17\n",
            "2022-07-24\n",
            "2022-07-31\n",
            "2022-08-07\n",
            "2022-08-14\n",
            "2022-08-21\n",
            "2022-08-28\n",
            "2022-09-04\n",
            "2022-09-11\n",
            "2022-09-18\n",
            "2022-09-25\n",
            "2022-10-02\n",
            "2022-10-09\n",
            "2022-10-16\n",
            "2022-10-23\n",
            "2022-10-30\n",
            "2022-11-06\n",
            "2022-11-13\n",
            "2022-11-20\n",
            "2022-11-27\n",
            "2022-12-04\n",
            "2022-12-11\n",
            "2022-12-18\n",
            "2022-12-25\n"
          ]
        }
      ],
      "source": [
        "# write your answer here\n",
        "from datetime import date,timedelta\n",
        "def sundays(year):\n",
        "  #first sun in january\n",
        "  d=date(year,1,1)\n",
        "  d+=timedelta(days=6 - d.weekday())\n",
        "  while d.year==year:\n",
        "    yield d\n",
        "    d+=timedelta(days = 7)\n",
        "for a in sundays(2022):\n",
        "  print(a)\n"
      ]
    }
  ],
  "metadata": {
    "colab": {
      "collapsed_sections": [],
      "name": "lab_assignment_01 (2).ipynb",
      "provenance": [],
      "include_colab_link": true
    },
    "kernelspec": {
      "display_name": "Python 3",
      "language": "python",
      "name": "python3"
    },
    "language_info": {
      "codemirror_mode": {
        "name": "ipython",
        "version": 3
      },
      "file_extension": ".py",
      "mimetype": "text/x-python",
      "name": "python",
      "nbconvert_exporter": "python",
      "pygments_lexer": "ipython3",
      "version": "3.8.5"
    }
  },
  "nbformat": 4,
  "nbformat_minor": 0
}